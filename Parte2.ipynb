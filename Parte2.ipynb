{
 "cells": [
  {
   "cell_type": "markdown",
   "id": "65cfc31d-c3a0-4ab5-862c-d9406916d893",
   "metadata": {},
   "source": [
    "# Problema de clasificación: Accidentes de coches en Canada "
   ]
  },
  {
   "cell_type": "markdown",
   "id": "0ab6e56c-da36-4092-80de-19846ebd6799",
   "metadata": {},
   "source": [
    "Como hemos dicho en la primera parte, lo complicado en este dataset es que tenemos observaciones para cada persona del accidente. Es decir, para cada accidente con 6 personas implicadas tenemos 6 observaciones duplicadas del accidente. Tener observaciones duplicadas del accidente puede generar overfitting y confundir al modelo.\n",
    "\n",
    "La solucion que proponemos es filtrar el dataset solo para los conductores y peatones.\n",
    "Ademas, desde el punto de vista de una aseguradora, este es un problema mas realista ya que solo tendria datos del asegurado.\n"
   ]
  },
  {
   "cell_type": "markdown",
   "id": "50d7c8d5-631d-4226-ae23-1c68dd96533e",
   "metadata": {},
   "source": [
    "# Librerias"
   ]
  },
  {
   "cell_type": "code",
   "execution_count": 1,
   "id": "c37ae734-5d8e-444d-b11f-6f42991a6ece",
   "metadata": {},
   "outputs": [],
   "source": [
    "import pandas as pd\n",
    "import seaborn as sns\n",
    "import numpy as np\n",
    "from matplotlib import pyplot as plt\n",
    "from sklearn.model_selection import train_test_split\n",
    "from sklearn.feature_selection import f_regression, mutual_info_regression\n",
    "from sklearn import preprocessing\n",
    "from sklearn.linear_model import LogisticRegression\n",
    "from sklearn.metrics import accuracy_score, precision_score, recall_score, f1_score, roc_auc_score\n",
    "from sklearn.metrics import confusion_matrix\n",
    "from sklearn.ensemble import BaggingClassifier\n",
    "from sklearn.tree import DecisionTreeClassifier\n",
    "from sklearn.ensemble import GradientBoostingClassifier\n",
    "import xgboost as xgb\n",
    "import matplotlib.pyplot as plt\n",
    "\n",
    "\n",
    "import category_encoders as ce\n",
    "import warnings\n",
    "warnings.filterwarnings('ignore')"
   ]
  },
  {
   "cell_type": "markdown",
   "id": "432c657d-2e21-470e-821d-db43b423275d",
   "metadata": {},
   "source": [
    "# Carga de datos"
   ]
  },
  {
   "cell_type": "markdown",
   "id": "ce8f6168-3ba9-40c4-91d2-c71458c124c7",
   "metadata": {},
   "source": [
    "Una vez cargados los datos, le vamos a cambiar el nombre a las variables para que sea mas facil interpretarlas y transformatemos la variable fatality : 0 sigifica no mortal y 1 mortal  "
   ]
  },
  {
   "cell_type": "code",
   "execution_count": 2,
   "id": "bf0dbb97-07b5-4b2d-b7c8-423883073158",
   "metadata": {},
   "outputs": [
    {
     "data": {
      "text/html": [
       "<div>\n",
       "<style scoped>\n",
       "    .dataframe tbody tr th:only-of-type {\n",
       "        vertical-align: middle;\n",
       "    }\n",
       "\n",
       "    .dataframe tbody tr th {\n",
       "        vertical-align: top;\n",
       "    }\n",
       "\n",
       "    .dataframe thead th {\n",
       "        text-align: right;\n",
       "    }\n",
       "</style>\n",
       "<table border=\"1\" class=\"dataframe\">\n",
       "  <thead>\n",
       "    <tr style=\"text-align: right;\">\n",
       "      <th></th>\n",
       "      <th>C_YEAR</th>\n",
       "      <th>C_MNTH</th>\n",
       "      <th>C_WDAY</th>\n",
       "      <th>C_HOUR</th>\n",
       "      <th>C_SEV</th>\n",
       "      <th>C_VEHS</th>\n",
       "      <th>C_CONF</th>\n",
       "      <th>C_RCFG</th>\n",
       "      <th>C_WTHR</th>\n",
       "      <th>C_RSUR</th>\n",
       "      <th>...</th>\n",
       "      <th>V_ID</th>\n",
       "      <th>V_TYPE</th>\n",
       "      <th>V_YEAR</th>\n",
       "      <th>P_ID</th>\n",
       "      <th>P_SEX</th>\n",
       "      <th>P_AGE</th>\n",
       "      <th>P_PSN</th>\n",
       "      <th>P_ISEV</th>\n",
       "      <th>P_SAFE</th>\n",
       "      <th>P_USER</th>\n",
       "    </tr>\n",
       "  </thead>\n",
       "  <tbody>\n",
       "    <tr>\n",
       "      <th>0</th>\n",
       "      <td>1999</td>\n",
       "      <td>1</td>\n",
       "      <td>1</td>\n",
       "      <td>20</td>\n",
       "      <td>2</td>\n",
       "      <td>02</td>\n",
       "      <td>34</td>\n",
       "      <td>UU</td>\n",
       "      <td>1</td>\n",
       "      <td>5</td>\n",
       "      <td>...</td>\n",
       "      <td>01</td>\n",
       "      <td>06</td>\n",
       "      <td>1990</td>\n",
       "      <td>01</td>\n",
       "      <td>M</td>\n",
       "      <td>41</td>\n",
       "      <td>11</td>\n",
       "      <td>1</td>\n",
       "      <td>UU</td>\n",
       "      <td>1</td>\n",
       "    </tr>\n",
       "    <tr>\n",
       "      <th>1</th>\n",
       "      <td>1999</td>\n",
       "      <td>1</td>\n",
       "      <td>1</td>\n",
       "      <td>20</td>\n",
       "      <td>2</td>\n",
       "      <td>02</td>\n",
       "      <td>34</td>\n",
       "      <td>UU</td>\n",
       "      <td>1</td>\n",
       "      <td>5</td>\n",
       "      <td>...</td>\n",
       "      <td>02</td>\n",
       "      <td>01</td>\n",
       "      <td>1987</td>\n",
       "      <td>01</td>\n",
       "      <td>M</td>\n",
       "      <td>19</td>\n",
       "      <td>11</td>\n",
       "      <td>1</td>\n",
       "      <td>UU</td>\n",
       "      <td>1</td>\n",
       "    </tr>\n",
       "    <tr>\n",
       "      <th>2</th>\n",
       "      <td>1999</td>\n",
       "      <td>1</td>\n",
       "      <td>1</td>\n",
       "      <td>20</td>\n",
       "      <td>2</td>\n",
       "      <td>02</td>\n",
       "      <td>34</td>\n",
       "      <td>UU</td>\n",
       "      <td>1</td>\n",
       "      <td>5</td>\n",
       "      <td>...</td>\n",
       "      <td>02</td>\n",
       "      <td>01</td>\n",
       "      <td>1987</td>\n",
       "      <td>02</td>\n",
       "      <td>F</td>\n",
       "      <td>20</td>\n",
       "      <td>13</td>\n",
       "      <td>2</td>\n",
       "      <td>02</td>\n",
       "      <td>2</td>\n",
       "    </tr>\n",
       "    <tr>\n",
       "      <th>3</th>\n",
       "      <td>1999</td>\n",
       "      <td>1</td>\n",
       "      <td>1</td>\n",
       "      <td>08</td>\n",
       "      <td>2</td>\n",
       "      <td>01</td>\n",
       "      <td>01</td>\n",
       "      <td>UU</td>\n",
       "      <td>5</td>\n",
       "      <td>3</td>\n",
       "      <td>...</td>\n",
       "      <td>01</td>\n",
       "      <td>01</td>\n",
       "      <td>1986</td>\n",
       "      <td>01</td>\n",
       "      <td>M</td>\n",
       "      <td>46</td>\n",
       "      <td>11</td>\n",
       "      <td>1</td>\n",
       "      <td>UU</td>\n",
       "      <td>1</td>\n",
       "    </tr>\n",
       "    <tr>\n",
       "      <th>4</th>\n",
       "      <td>1999</td>\n",
       "      <td>1</td>\n",
       "      <td>1</td>\n",
       "      <td>08</td>\n",
       "      <td>2</td>\n",
       "      <td>01</td>\n",
       "      <td>01</td>\n",
       "      <td>UU</td>\n",
       "      <td>5</td>\n",
       "      <td>3</td>\n",
       "      <td>...</td>\n",
       "      <td>99</td>\n",
       "      <td>NN</td>\n",
       "      <td>NNNN</td>\n",
       "      <td>01</td>\n",
       "      <td>M</td>\n",
       "      <td>05</td>\n",
       "      <td>99</td>\n",
       "      <td>2</td>\n",
       "      <td>UU</td>\n",
       "      <td>3</td>\n",
       "    </tr>\n",
       "  </tbody>\n",
       "</table>\n",
       "<p>5 rows × 22 columns</p>\n",
       "</div>"
      ],
      "text/plain": [
       "   C_YEAR C_MNTH C_WDAY C_HOUR  C_SEV C_VEHS C_CONF C_RCFG C_WTHR C_RSUR  ...  \\\n",
       "0    1999      1      1     20      2     02     34     UU      1      5  ...   \n",
       "1    1999      1      1     20      2     02     34     UU      1      5  ...   \n",
       "2    1999      1      1     20      2     02     34     UU      1      5  ...   \n",
       "3    1999      1      1     08      2     01     01     UU      5      3  ...   \n",
       "4    1999      1      1     08      2     01     01     UU      5      3  ...   \n",
       "\n",
       "  V_ID V_TYPE V_YEAR P_ID P_SEX P_AGE P_PSN P_ISEV P_SAFE P_USER  \n",
       "0   01     06   1990   01     M    41    11      1     UU      1  \n",
       "1   02     01   1987   01     M    19    11      1     UU      1  \n",
       "2   02     01   1987   02     F    20    13      2     02      2  \n",
       "3   01     01   1986   01     M    46    11      1     UU      1  \n",
       "4   99     NN   NNNN   01     M    05    99      2     UU      3  \n",
       "\n",
       "[5 rows x 22 columns]"
      ]
     },
     "execution_count": 2,
     "metadata": {},
     "output_type": "execute_result"
    }
   ],
   "source": [
    "df= pd.read_csv('NCDB_1999_to_2014.csv')\n",
    "df.head()"
   ]
  },
  {
   "cell_type": "code",
   "execution_count": 3,
   "id": "091c2097-e059-4577-9c11-45ffd8f1dd4b",
   "metadata": {},
   "outputs": [
    {
     "name": "stdout",
     "output_type": "stream",
     "text": [
      "(5860405, 22)\n"
     ]
    }
   ],
   "source": [
    "print(df.shape)"
   ]
  },
  {
   "cell_type": "code",
   "execution_count": 4,
   "id": "f783e748-b033-4a49-bd73-496b9f517108",
   "metadata": {},
   "outputs": [],
   "source": [
    "new_names = [\"year\", \"month\", \"weekday\", \"hour\", \"fatality\", \"vehicles_involved\", \"crash_type\", \"crash_place\", \"crash_weather\",\n",
    "\"surface_state\", \"road_slope\", \"traffic_state\", \"vehicle_id\", \"vehicle_type\", \"vehicle_year\", \"passenger_id\", \"passenger_sex\",\n",
    "\"passenger_age\", \"passenger_role\", \"passenger_fatality\", \"passenger_safety\", \"passenger_type\"]\n",
    "\n",
    "df.columns = new_names"
   ]
  },
  {
   "cell_type": "code",
   "execution_count": 5,
   "id": "23037dce-9b03-4d23-8312-083630cb9ea7",
   "metadata": {},
   "outputs": [
    {
     "data": {
      "text/html": [
       "<div>\n",
       "<style scoped>\n",
       "    .dataframe tbody tr th:only-of-type {\n",
       "        vertical-align: middle;\n",
       "    }\n",
       "\n",
       "    .dataframe tbody tr th {\n",
       "        vertical-align: top;\n",
       "    }\n",
       "\n",
       "    .dataframe thead th {\n",
       "        text-align: right;\n",
       "    }\n",
       "</style>\n",
       "<table border=\"1\" class=\"dataframe\">\n",
       "  <thead>\n",
       "    <tr style=\"text-align: right;\">\n",
       "      <th></th>\n",
       "      <th>year</th>\n",
       "      <th>month</th>\n",
       "      <th>weekday</th>\n",
       "      <th>hour</th>\n",
       "      <th>vehicles_involved</th>\n",
       "      <th>crash_type</th>\n",
       "      <th>crash_place</th>\n",
       "      <th>crash_weather</th>\n",
       "      <th>surface_state</th>\n",
       "      <th>road_slope</th>\n",
       "      <th>...</th>\n",
       "      <th>vehicle_type</th>\n",
       "      <th>vehicle_year</th>\n",
       "      <th>passenger_id</th>\n",
       "      <th>passenger_sex</th>\n",
       "      <th>passenger_age</th>\n",
       "      <th>passenger_role</th>\n",
       "      <th>passenger_fatality</th>\n",
       "      <th>passenger_safety</th>\n",
       "      <th>passenger_type</th>\n",
       "      <th>fatality</th>\n",
       "    </tr>\n",
       "  </thead>\n",
       "  <tbody>\n",
       "    <tr>\n",
       "      <th>0</th>\n",
       "      <td>1999</td>\n",
       "      <td>1</td>\n",
       "      <td>1</td>\n",
       "      <td>20</td>\n",
       "      <td>02</td>\n",
       "      <td>34</td>\n",
       "      <td>UU</td>\n",
       "      <td>1</td>\n",
       "      <td>5</td>\n",
       "      <td>3</td>\n",
       "      <td>...</td>\n",
       "      <td>06</td>\n",
       "      <td>1990</td>\n",
       "      <td>01</td>\n",
       "      <td>M</td>\n",
       "      <td>41</td>\n",
       "      <td>11</td>\n",
       "      <td>1</td>\n",
       "      <td>UU</td>\n",
       "      <td>1</td>\n",
       "      <td>0</td>\n",
       "    </tr>\n",
       "    <tr>\n",
       "      <th>1</th>\n",
       "      <td>1999</td>\n",
       "      <td>1</td>\n",
       "      <td>1</td>\n",
       "      <td>20</td>\n",
       "      <td>02</td>\n",
       "      <td>34</td>\n",
       "      <td>UU</td>\n",
       "      <td>1</td>\n",
       "      <td>5</td>\n",
       "      <td>3</td>\n",
       "      <td>...</td>\n",
       "      <td>01</td>\n",
       "      <td>1987</td>\n",
       "      <td>01</td>\n",
       "      <td>M</td>\n",
       "      <td>19</td>\n",
       "      <td>11</td>\n",
       "      <td>1</td>\n",
       "      <td>UU</td>\n",
       "      <td>1</td>\n",
       "      <td>0</td>\n",
       "    </tr>\n",
       "    <tr>\n",
       "      <th>2</th>\n",
       "      <td>1999</td>\n",
       "      <td>1</td>\n",
       "      <td>1</td>\n",
       "      <td>20</td>\n",
       "      <td>02</td>\n",
       "      <td>34</td>\n",
       "      <td>UU</td>\n",
       "      <td>1</td>\n",
       "      <td>5</td>\n",
       "      <td>3</td>\n",
       "      <td>...</td>\n",
       "      <td>01</td>\n",
       "      <td>1987</td>\n",
       "      <td>02</td>\n",
       "      <td>F</td>\n",
       "      <td>20</td>\n",
       "      <td>13</td>\n",
       "      <td>2</td>\n",
       "      <td>02</td>\n",
       "      <td>2</td>\n",
       "      <td>0</td>\n",
       "    </tr>\n",
       "    <tr>\n",
       "      <th>3</th>\n",
       "      <td>1999</td>\n",
       "      <td>1</td>\n",
       "      <td>1</td>\n",
       "      <td>08</td>\n",
       "      <td>01</td>\n",
       "      <td>01</td>\n",
       "      <td>UU</td>\n",
       "      <td>5</td>\n",
       "      <td>3</td>\n",
       "      <td>6</td>\n",
       "      <td>...</td>\n",
       "      <td>01</td>\n",
       "      <td>1986</td>\n",
       "      <td>01</td>\n",
       "      <td>M</td>\n",
       "      <td>46</td>\n",
       "      <td>11</td>\n",
       "      <td>1</td>\n",
       "      <td>UU</td>\n",
       "      <td>1</td>\n",
       "      <td>0</td>\n",
       "    </tr>\n",
       "    <tr>\n",
       "      <th>4</th>\n",
       "      <td>1999</td>\n",
       "      <td>1</td>\n",
       "      <td>1</td>\n",
       "      <td>08</td>\n",
       "      <td>01</td>\n",
       "      <td>01</td>\n",
       "      <td>UU</td>\n",
       "      <td>5</td>\n",
       "      <td>3</td>\n",
       "      <td>6</td>\n",
       "      <td>...</td>\n",
       "      <td>NN</td>\n",
       "      <td>NNNN</td>\n",
       "      <td>01</td>\n",
       "      <td>M</td>\n",
       "      <td>05</td>\n",
       "      <td>99</td>\n",
       "      <td>2</td>\n",
       "      <td>UU</td>\n",
       "      <td>3</td>\n",
       "      <td>0</td>\n",
       "    </tr>\n",
       "  </tbody>\n",
       "</table>\n",
       "<p>5 rows × 22 columns</p>\n",
       "</div>"
      ],
      "text/plain": [
       "   year month weekday hour vehicles_involved crash_type crash_place  \\\n",
       "0  1999     1       1   20                02         34          UU   \n",
       "1  1999     1       1   20                02         34          UU   \n",
       "2  1999     1       1   20                02         34          UU   \n",
       "3  1999     1       1   08                01         01          UU   \n",
       "4  1999     1       1   08                01         01          UU   \n",
       "\n",
       "  crash_weather surface_state road_slope  ... vehicle_type vehicle_year  \\\n",
       "0             1             5          3  ...           06         1990   \n",
       "1             1             5          3  ...           01         1987   \n",
       "2             1             5          3  ...           01         1987   \n",
       "3             5             3          6  ...           01         1986   \n",
       "4             5             3          6  ...           NN         NNNN   \n",
       "\n",
       "  passenger_id passenger_sex passenger_age passenger_role passenger_fatality  \\\n",
       "0           01             M            41             11                  1   \n",
       "1           01             M            19             11                  1   \n",
       "2           02             F            20             13                  2   \n",
       "3           01             M            46             11                  1   \n",
       "4           01             M            05             99                  2   \n",
       "\n",
       "  passenger_safety passenger_type fatality  \n",
       "0               UU              1        0  \n",
       "1               UU              1        0  \n",
       "2               02              2        0  \n",
       "3               UU              1        0  \n",
       "4               UU              3        0  \n",
       "\n",
       "[5 rows x 22 columns]"
      ]
     },
     "execution_count": 5,
     "metadata": {},
     "output_type": "execute_result"
    }
   ],
   "source": [
    "# Antes: 1-fatality 2-no fatality\n",
    "# Después: 1-fatality 0-no fatality\n",
    "\n",
    "df['fatality'] = df['fatality'].replace({2:0})\n",
    "\n",
    "#Ponemos la variable objetivo a la derecha del dataframe\n",
    "new_columns = list(df.columns[0:4]) + list(df.columns[5:]) + list(df.columns[4:5])\n",
    "df = df[new_columns]\n",
    "df.head()"
   ]
  },
  {
   "cell_type": "markdown",
   "id": "8b386771-957d-4254-99da-59ed937b3613",
   "metadata": {},
   "source": [
    "# Eliminación de datos duplicados"
   ]
  },
  {
   "cell_type": "code",
   "execution_count": 6,
   "id": "913730ef-cea1-4160-b42e-1ad505a8c579",
   "metadata": {},
   "outputs": [
    {
     "name": "stdout",
     "output_type": "stream",
     "text": [
      "Cantidad de duplicados: 5069\n"
     ]
    }
   ],
   "source": [
    "print(\"Cantidad de duplicados:\", df.duplicated().sum())"
   ]
  },
  {
   "cell_type": "code",
   "execution_count": 7,
   "id": "f1708369-948e-4027-9d07-4aeaff9b85cc",
   "metadata": {},
   "outputs": [
    {
     "data": {
      "text/html": [
       "<div>\n",
       "<style scoped>\n",
       "    .dataframe tbody tr th:only-of-type {\n",
       "        vertical-align: middle;\n",
       "    }\n",
       "\n",
       "    .dataframe tbody tr th {\n",
       "        vertical-align: top;\n",
       "    }\n",
       "\n",
       "    .dataframe thead th {\n",
       "        text-align: right;\n",
       "    }\n",
       "</style>\n",
       "<table border=\"1\" class=\"dataframe\">\n",
       "  <thead>\n",
       "    <tr style=\"text-align: right;\">\n",
       "      <th></th>\n",
       "      <th>year</th>\n",
       "      <th>month</th>\n",
       "      <th>weekday</th>\n",
       "      <th>hour</th>\n",
       "      <th>vehicles_involved</th>\n",
       "      <th>crash_type</th>\n",
       "      <th>crash_place</th>\n",
       "      <th>crash_weather</th>\n",
       "      <th>surface_state</th>\n",
       "      <th>road_slope</th>\n",
       "      <th>...</th>\n",
       "      <th>vehicle_type</th>\n",
       "      <th>vehicle_year</th>\n",
       "      <th>passenger_id</th>\n",
       "      <th>passenger_sex</th>\n",
       "      <th>passenger_age</th>\n",
       "      <th>passenger_role</th>\n",
       "      <th>passenger_fatality</th>\n",
       "      <th>passenger_safety</th>\n",
       "      <th>passenger_type</th>\n",
       "      <th>fatality</th>\n",
       "    </tr>\n",
       "  </thead>\n",
       "  <tbody>\n",
       "    <tr>\n",
       "      <th>0</th>\n",
       "      <td>1999</td>\n",
       "      <td>1</td>\n",
       "      <td>1</td>\n",
       "      <td>20</td>\n",
       "      <td>02</td>\n",
       "      <td>34</td>\n",
       "      <td>UU</td>\n",
       "      <td>1</td>\n",
       "      <td>5</td>\n",
       "      <td>3</td>\n",
       "      <td>...</td>\n",
       "      <td>06</td>\n",
       "      <td>1990</td>\n",
       "      <td>01</td>\n",
       "      <td>M</td>\n",
       "      <td>41</td>\n",
       "      <td>11</td>\n",
       "      <td>1</td>\n",
       "      <td>UU</td>\n",
       "      <td>1</td>\n",
       "      <td>0</td>\n",
       "    </tr>\n",
       "    <tr>\n",
       "      <th>1</th>\n",
       "      <td>1999</td>\n",
       "      <td>1</td>\n",
       "      <td>1</td>\n",
       "      <td>20</td>\n",
       "      <td>02</td>\n",
       "      <td>34</td>\n",
       "      <td>UU</td>\n",
       "      <td>1</td>\n",
       "      <td>5</td>\n",
       "      <td>3</td>\n",
       "      <td>...</td>\n",
       "      <td>01</td>\n",
       "      <td>1987</td>\n",
       "      <td>01</td>\n",
       "      <td>M</td>\n",
       "      <td>19</td>\n",
       "      <td>11</td>\n",
       "      <td>1</td>\n",
       "      <td>UU</td>\n",
       "      <td>1</td>\n",
       "      <td>0</td>\n",
       "    </tr>\n",
       "    <tr>\n",
       "      <th>2</th>\n",
       "      <td>1999</td>\n",
       "      <td>1</td>\n",
       "      <td>1</td>\n",
       "      <td>20</td>\n",
       "      <td>02</td>\n",
       "      <td>34</td>\n",
       "      <td>UU</td>\n",
       "      <td>1</td>\n",
       "      <td>5</td>\n",
       "      <td>3</td>\n",
       "      <td>...</td>\n",
       "      <td>01</td>\n",
       "      <td>1987</td>\n",
       "      <td>02</td>\n",
       "      <td>F</td>\n",
       "      <td>20</td>\n",
       "      <td>13</td>\n",
       "      <td>2</td>\n",
       "      <td>02</td>\n",
       "      <td>2</td>\n",
       "      <td>0</td>\n",
       "    </tr>\n",
       "    <tr>\n",
       "      <th>3</th>\n",
       "      <td>1999</td>\n",
       "      <td>1</td>\n",
       "      <td>1</td>\n",
       "      <td>08</td>\n",
       "      <td>01</td>\n",
       "      <td>01</td>\n",
       "      <td>UU</td>\n",
       "      <td>5</td>\n",
       "      <td>3</td>\n",
       "      <td>6</td>\n",
       "      <td>...</td>\n",
       "      <td>01</td>\n",
       "      <td>1986</td>\n",
       "      <td>01</td>\n",
       "      <td>M</td>\n",
       "      <td>46</td>\n",
       "      <td>11</td>\n",
       "      <td>1</td>\n",
       "      <td>UU</td>\n",
       "      <td>1</td>\n",
       "      <td>0</td>\n",
       "    </tr>\n",
       "    <tr>\n",
       "      <th>4</th>\n",
       "      <td>1999</td>\n",
       "      <td>1</td>\n",
       "      <td>1</td>\n",
       "      <td>08</td>\n",
       "      <td>01</td>\n",
       "      <td>01</td>\n",
       "      <td>UU</td>\n",
       "      <td>5</td>\n",
       "      <td>3</td>\n",
       "      <td>6</td>\n",
       "      <td>...</td>\n",
       "      <td>NN</td>\n",
       "      <td>NNNN</td>\n",
       "      <td>01</td>\n",
       "      <td>M</td>\n",
       "      <td>05</td>\n",
       "      <td>99</td>\n",
       "      <td>2</td>\n",
       "      <td>UU</td>\n",
       "      <td>3</td>\n",
       "      <td>0</td>\n",
       "    </tr>\n",
       "  </tbody>\n",
       "</table>\n",
       "<p>5 rows × 22 columns</p>\n",
       "</div>"
      ],
      "text/plain": [
       "   year month weekday hour vehicles_involved crash_type crash_place  \\\n",
       "0  1999     1       1   20                02         34          UU   \n",
       "1  1999     1       1   20                02         34          UU   \n",
       "2  1999     1       1   20                02         34          UU   \n",
       "3  1999     1       1   08                01         01          UU   \n",
       "4  1999     1       1   08                01         01          UU   \n",
       "\n",
       "  crash_weather surface_state road_slope  ... vehicle_type vehicle_year  \\\n",
       "0             1             5          3  ...           06         1990   \n",
       "1             1             5          3  ...           01         1987   \n",
       "2             1             5          3  ...           01         1987   \n",
       "3             5             3          6  ...           01         1986   \n",
       "4             5             3          6  ...           NN         NNNN   \n",
       "\n",
       "  passenger_id passenger_sex passenger_age passenger_role passenger_fatality  \\\n",
       "0           01             M            41             11                  1   \n",
       "1           01             M            19             11                  1   \n",
       "2           02             F            20             13                  2   \n",
       "3           01             M            46             11                  1   \n",
       "4           01             M            05             99                  2   \n",
       "\n",
       "  passenger_safety passenger_type fatality  \n",
       "0               UU              1        0  \n",
       "1               UU              1        0  \n",
       "2               02              2        0  \n",
       "3               UU              1        0  \n",
       "4               UU              3        0  \n",
       "\n",
       "[5 rows x 22 columns]"
      ]
     },
     "execution_count": 7,
     "metadata": {},
     "output_type": "execute_result"
    }
   ],
   "source": [
    "df = df.drop_duplicates()\n",
    "df.head()"
   ]
  },
  {
   "cell_type": "markdown",
   "id": "8fa3f6a2-7d45-4609-8160-fd987cbe156c",
   "metadata": {},
   "source": [
    "# Tranformacion variable --> edad del coche"
   ]
  },
  {
   "cell_type": "code",
   "execution_count": 8,
   "id": "c7c00b07-41ee-445d-9754-7b5ba402acd1",
   "metadata": {},
   "outputs": [],
   "source": [
    "# Transformamos la variable vehicle_year a años de antigüedad \n",
    "df['vehicle_year'] = pd.to_numeric(df.year - pd.to_numeric(df.vehicle_year, errors= \"coerce\"))\n",
    "df = df.rename(columns={\"vehicle_year\": 'vehicle_age'})"
   ]
  },
  {
   "cell_type": "code",
   "execution_count": 9,
   "id": "7033d2fd-0c07-4061-9e70-f10b1fe93e8d",
   "metadata": {
    "tags": []
   },
   "outputs": [
    {
     "data": {
      "text/plain": [
       "array([  9.,  12.,  13.,  nan,  15.,   8.,   7.,   2.,   6.,  14.,  11.,\n",
       "         5.,   4.,   1.,  10.,   3.,  16.,   0.,  34.,  22.,  21.,  31.,\n",
       "        18.,  20.,  23.,  27.,  -1.,  17.,  24.,  26.,  25.,  19.,  32.,\n",
       "        29.,  28.,  37.,  30.,  33.,  54.,  36.,  39.,  49.,  35.,  40.,\n",
       "        44.,  41.,  96.,  90.,  50.,  76.,  38.,  85.,  91.,  46.,  93.,\n",
       "        60.,  74.,  51.,  61.,  92.,  47.,  95.,  82.,  87.,  55.,  43.,\n",
       "        69.,  68.,  48.,  53.,  52.,  42.,  45.,  56.,  98.,  62.,  94.,\n",
       "        64.,  73.,  58.,  67.,  79.,  66.,  80.,  84.,  70.,  71.,  83.,\n",
       "        86.,  75.,  -2.,  59.,  65.,  63.,  77.,  72.,  81.,  57., 100.,\n",
       "        99., 101.,  78.,  89.,  97.,  88., 103.])"
      ]
     },
     "execution_count": 9,
     "metadata": {},
     "output_type": "execute_result"
    }
   ],
   "source": [
    "df['vehicle_age'].unique()"
   ]
  },
  {
   "cell_type": "markdown",
   "id": "85f2202c-348b-4240-b548-d9ea18bc08af",
   "metadata": {},
   "source": [
    "Al calcular la edad del coche nos dimos cuenta que hay valores donde la edad del coche es -1 y -2. Estos son datos erroneos ya que no puede haber coches fabricados despues de tener el accidente. Ademas, tambien nos dimos cuenta de que hay coches con 100 o mas años. Los estudiaremos como datos atipicos."
   ]
  },
  {
   "cell_type": "code",
   "execution_count": 10,
   "id": "bb4f1708-c436-425b-ac61-22f19143ff57",
   "metadata": {},
   "outputs": [],
   "source": [
    "df = df[df['vehicle_age'] != '-2']\n",
    "df =df[df['vehicle_age'] != '-1']"
   ]
  },
  {
   "cell_type": "markdown",
   "id": "63571152-272c-4e8c-ab3f-415970a9c4a9",
   "metadata": {},
   "source": [
    "# Filtrar "
   ]
  },
  {
   "cell_type": "markdown",
   "id": "fa4a867a-75d9-4968-9106-f0e705ddcdcd",
   "metadata": {},
   "source": [
    "Como habiamos dicho, filtramos el dataset y nos quedamos solo con los conductores y los peatones."
   ]
  },
  {
   "cell_type": "code",
   "execution_count": 11,
   "id": "269da15c-ffd4-41da-acb0-0711475b2ce0",
   "metadata": {},
   "outputs": [],
   "source": [
    "df = df.loc[(df['passenger_role'] == \"11\") | (df['passenger_role'] == \"99\")]\n",
    "df = df.drop('passenger_role', axis = 1)"
   ]
  },
  {
   "cell_type": "code",
   "execution_count": 191,
   "id": "887a2b4d-9972-4bf3-b98c-1aeab9393cf5",
   "metadata": {},
   "outputs": [
    {
     "data": {
      "text/html": [
       "<div>\n",
       "<style scoped>\n",
       "    .dataframe tbody tr th:only-of-type {\n",
       "        vertical-align: middle;\n",
       "    }\n",
       "\n",
       "    .dataframe tbody tr th {\n",
       "        vertical-align: top;\n",
       "    }\n",
       "\n",
       "    .dataframe thead th {\n",
       "        text-align: right;\n",
       "    }\n",
       "</style>\n",
       "<table border=\"1\" class=\"dataframe\">\n",
       "  <thead>\n",
       "    <tr style=\"text-align: right;\">\n",
       "      <th></th>\n",
       "      <th>year</th>\n",
       "      <th>month</th>\n",
       "      <th>weekday</th>\n",
       "      <th>hour</th>\n",
       "      <th>vehicles_involved</th>\n",
       "      <th>crash_type</th>\n",
       "      <th>crash_place</th>\n",
       "      <th>crash_weather</th>\n",
       "      <th>surface_state</th>\n",
       "      <th>road_slope</th>\n",
       "      <th>...</th>\n",
       "      <th>vehicle_id</th>\n",
       "      <th>vehicle_type</th>\n",
       "      <th>vehicle_age</th>\n",
       "      <th>passenger_id</th>\n",
       "      <th>passenger_sex</th>\n",
       "      <th>passenger_age</th>\n",
       "      <th>passenger_fatality</th>\n",
       "      <th>passenger_safety</th>\n",
       "      <th>passenger_type</th>\n",
       "      <th>fatality</th>\n",
       "    </tr>\n",
       "  </thead>\n",
       "  <tbody>\n",
       "    <tr>\n",
       "      <th>0</th>\n",
       "      <td>1999</td>\n",
       "      <td>1</td>\n",
       "      <td>1</td>\n",
       "      <td>20</td>\n",
       "      <td>02</td>\n",
       "      <td>34</td>\n",
       "      <td>UU</td>\n",
       "      <td>1</td>\n",
       "      <td>5</td>\n",
       "      <td>3</td>\n",
       "      <td>...</td>\n",
       "      <td>01</td>\n",
       "      <td>06</td>\n",
       "      <td>9.0</td>\n",
       "      <td>01</td>\n",
       "      <td>M</td>\n",
       "      <td>41</td>\n",
       "      <td>1</td>\n",
       "      <td>UU</td>\n",
       "      <td>1</td>\n",
       "      <td>0</td>\n",
       "    </tr>\n",
       "    <tr>\n",
       "      <th>1</th>\n",
       "      <td>1999</td>\n",
       "      <td>1</td>\n",
       "      <td>1</td>\n",
       "      <td>20</td>\n",
       "      <td>02</td>\n",
       "      <td>34</td>\n",
       "      <td>UU</td>\n",
       "      <td>1</td>\n",
       "      <td>5</td>\n",
       "      <td>3</td>\n",
       "      <td>...</td>\n",
       "      <td>02</td>\n",
       "      <td>01</td>\n",
       "      <td>12.0</td>\n",
       "      <td>01</td>\n",
       "      <td>M</td>\n",
       "      <td>19</td>\n",
       "      <td>1</td>\n",
       "      <td>UU</td>\n",
       "      <td>1</td>\n",
       "      <td>0</td>\n",
       "    </tr>\n",
       "    <tr>\n",
       "      <th>3</th>\n",
       "      <td>1999</td>\n",
       "      <td>1</td>\n",
       "      <td>1</td>\n",
       "      <td>08</td>\n",
       "      <td>01</td>\n",
       "      <td>01</td>\n",
       "      <td>UU</td>\n",
       "      <td>5</td>\n",
       "      <td>3</td>\n",
       "      <td>6</td>\n",
       "      <td>...</td>\n",
       "      <td>01</td>\n",
       "      <td>01</td>\n",
       "      <td>13.0</td>\n",
       "      <td>01</td>\n",
       "      <td>M</td>\n",
       "      <td>46</td>\n",
       "      <td>1</td>\n",
       "      <td>UU</td>\n",
       "      <td>1</td>\n",
       "      <td>0</td>\n",
       "    </tr>\n",
       "    <tr>\n",
       "      <th>4</th>\n",
       "      <td>1999</td>\n",
       "      <td>1</td>\n",
       "      <td>1</td>\n",
       "      <td>08</td>\n",
       "      <td>01</td>\n",
       "      <td>01</td>\n",
       "      <td>UU</td>\n",
       "      <td>5</td>\n",
       "      <td>3</td>\n",
       "      <td>6</td>\n",
       "      <td>...</td>\n",
       "      <td>99</td>\n",
       "      <td>NN</td>\n",
       "      <td>NaN</td>\n",
       "      <td>01</td>\n",
       "      <td>M</td>\n",
       "      <td>05</td>\n",
       "      <td>2</td>\n",
       "      <td>UU</td>\n",
       "      <td>3</td>\n",
       "      <td>0</td>\n",
       "    </tr>\n",
       "    <tr>\n",
       "      <th>5</th>\n",
       "      <td>1999</td>\n",
       "      <td>1</td>\n",
       "      <td>1</td>\n",
       "      <td>17</td>\n",
       "      <td>03</td>\n",
       "      <td>QQ</td>\n",
       "      <td>QQ</td>\n",
       "      <td>1</td>\n",
       "      <td>2</td>\n",
       "      <td>1</td>\n",
       "      <td>...</td>\n",
       "      <td>01</td>\n",
       "      <td>01</td>\n",
       "      <td>15.0</td>\n",
       "      <td>01</td>\n",
       "      <td>M</td>\n",
       "      <td>28</td>\n",
       "      <td>1</td>\n",
       "      <td>UU</td>\n",
       "      <td>1</td>\n",
       "      <td>0</td>\n",
       "    </tr>\n",
       "  </tbody>\n",
       "</table>\n",
       "<p>5 rows × 21 columns</p>\n",
       "</div>"
      ],
      "text/plain": [
       "   year month weekday hour vehicles_involved crash_type crash_place  \\\n",
       "0  1999     1       1   20                02         34          UU   \n",
       "1  1999     1       1   20                02         34          UU   \n",
       "3  1999     1       1   08                01         01          UU   \n",
       "4  1999     1       1   08                01         01          UU   \n",
       "5  1999     1       1   17                03         QQ          QQ   \n",
       "\n",
       "  crash_weather surface_state road_slope  ... vehicle_id vehicle_type  \\\n",
       "0             1             5          3  ...         01           06   \n",
       "1             1             5          3  ...         02           01   \n",
       "3             5             3          6  ...         01           01   \n",
       "4             5             3          6  ...         99           NN   \n",
       "5             1             2          1  ...         01           01   \n",
       "\n",
       "  vehicle_age  passenger_id passenger_sex passenger_age passenger_fatality  \\\n",
       "0         9.0            01             M            41                  1   \n",
       "1        12.0            01             M            19                  1   \n",
       "3        13.0            01             M            46                  1   \n",
       "4         NaN            01             M            05                  2   \n",
       "5        15.0            01             M            28                  1   \n",
       "\n",
       "  passenger_safety passenger_type fatality  \n",
       "0               UU              1        0  \n",
       "1               UU              1        0  \n",
       "3               UU              1        0  \n",
       "4               UU              3        0  \n",
       "5               UU              1        0  \n",
       "\n",
       "[5 rows x 21 columns]"
      ]
     },
     "execution_count": 191,
     "metadata": {},
     "output_type": "execute_result"
    }
   ],
   "source": [
    "df.head()"
   ]
  },
  {
   "cell_type": "code",
   "execution_count": 13,
   "id": "fc15d423-1784-442f-8405-4934c3ca0338",
   "metadata": {},
   "outputs": [],
   "source": [
    "acc_columns = [\"year\", \"month\", \"weekday\", \"hour\", \"fatality\", \"vehicles_involved\", \"crash_type\", \"crash_place\", \"crash_weather\",\n",
    "\"surface_state\", \"road_slope\", \"traffic_state\"]\n",
    "\n",
    "acc_df = df.groupby(acc_columns).size().reset_index(name='n_personas_implicadas')\n"
   ]
  },
  {
   "cell_type": "code",
   "execution_count": 14,
   "id": "053a31cd-2541-4ec4-9758-2f048edcde67",
   "metadata": {},
   "outputs": [
    {
     "data": {
      "text/html": [
       "<div>\n",
       "<style scoped>\n",
       "    .dataframe tbody tr th:only-of-type {\n",
       "        vertical-align: middle;\n",
       "    }\n",
       "\n",
       "    .dataframe tbody tr th {\n",
       "        vertical-align: top;\n",
       "    }\n",
       "\n",
       "    .dataframe thead th {\n",
       "        text-align: right;\n",
       "    }\n",
       "</style>\n",
       "<table border=\"1\" class=\"dataframe\">\n",
       "  <thead>\n",
       "    <tr style=\"text-align: right;\">\n",
       "      <th></th>\n",
       "      <th>year</th>\n",
       "      <th>month</th>\n",
       "      <th>weekday</th>\n",
       "      <th>hour</th>\n",
       "      <th>fatality</th>\n",
       "      <th>vehicles_involved</th>\n",
       "      <th>crash_type</th>\n",
       "      <th>crash_place</th>\n",
       "      <th>crash_weather</th>\n",
       "      <th>surface_state</th>\n",
       "      <th>road_slope</th>\n",
       "      <th>traffic_state</th>\n",
       "      <th>n_personas_implicadas</th>\n",
       "    </tr>\n",
       "  </thead>\n",
       "  <tbody>\n",
       "    <tr>\n",
       "      <th>0</th>\n",
       "      <td>1999</td>\n",
       "      <td>1</td>\n",
       "      <td>1</td>\n",
       "      <td>00</td>\n",
       "      <td>0</td>\n",
       "      <td>01</td>\n",
       "      <td>01</td>\n",
       "      <td>01</td>\n",
       "      <td>1</td>\n",
       "      <td>4</td>\n",
       "      <td>1</td>\n",
       "      <td>18</td>\n",
       "      <td>1</td>\n",
       "    </tr>\n",
       "    <tr>\n",
       "      <th>1</th>\n",
       "      <td>1999</td>\n",
       "      <td>1</td>\n",
       "      <td>1</td>\n",
       "      <td>00</td>\n",
       "      <td>0</td>\n",
       "      <td>01</td>\n",
       "      <td>01</td>\n",
       "      <td>01</td>\n",
       "      <td>1</td>\n",
       "      <td>5</td>\n",
       "      <td>1</td>\n",
       "      <td>18</td>\n",
       "      <td>1</td>\n",
       "    </tr>\n",
       "    <tr>\n",
       "      <th>2</th>\n",
       "      <td>1999</td>\n",
       "      <td>1</td>\n",
       "      <td>1</td>\n",
       "      <td>00</td>\n",
       "      <td>0</td>\n",
       "      <td>01</td>\n",
       "      <td>01</td>\n",
       "      <td>01</td>\n",
       "      <td>2</td>\n",
       "      <td>1</td>\n",
       "      <td>1</td>\n",
       "      <td>18</td>\n",
       "      <td>1</td>\n",
       "    </tr>\n",
       "    <tr>\n",
       "      <th>3</th>\n",
       "      <td>1999</td>\n",
       "      <td>1</td>\n",
       "      <td>1</td>\n",
       "      <td>00</td>\n",
       "      <td>0</td>\n",
       "      <td>01</td>\n",
       "      <td>01</td>\n",
       "      <td>01</td>\n",
       "      <td>6</td>\n",
       "      <td>3</td>\n",
       "      <td>2</td>\n",
       "      <td>18</td>\n",
       "      <td>2</td>\n",
       "    </tr>\n",
       "    <tr>\n",
       "      <th>4</th>\n",
       "      <td>1999</td>\n",
       "      <td>1</td>\n",
       "      <td>1</td>\n",
       "      <td>00</td>\n",
       "      <td>0</td>\n",
       "      <td>01</td>\n",
       "      <td>01</td>\n",
       "      <td>UU</td>\n",
       "      <td>1</td>\n",
       "      <td>2</td>\n",
       "      <td>3</td>\n",
       "      <td>18</td>\n",
       "      <td>1</td>\n",
       "    </tr>\n",
       "    <tr>\n",
       "      <th>...</th>\n",
       "      <td>...</td>\n",
       "      <td>...</td>\n",
       "      <td>...</td>\n",
       "      <td>...</td>\n",
       "      <td>...</td>\n",
       "      <td>...</td>\n",
       "      <td>...</td>\n",
       "      <td>...</td>\n",
       "      <td>...</td>\n",
       "      <td>...</td>\n",
       "      <td>...</td>\n",
       "      <td>...</td>\n",
       "      <td>...</td>\n",
       "    </tr>\n",
       "    <tr>\n",
       "      <th>1847028</th>\n",
       "      <td>2014</td>\n",
       "      <td>12</td>\n",
       "      <td>7</td>\n",
       "      <td>UU</td>\n",
       "      <td>0</td>\n",
       "      <td>02</td>\n",
       "      <td>33</td>\n",
       "      <td>08</td>\n",
       "      <td>2</td>\n",
       "      <td>2</td>\n",
       "      <td>1</td>\n",
       "      <td>18</td>\n",
       "      <td>2</td>\n",
       "    </tr>\n",
       "    <tr>\n",
       "      <th>1847029</th>\n",
       "      <td>2014</td>\n",
       "      <td>12</td>\n",
       "      <td>7</td>\n",
       "      <td>UU</td>\n",
       "      <td>0</td>\n",
       "      <td>02</td>\n",
       "      <td>35</td>\n",
       "      <td>02</td>\n",
       "      <td>2</td>\n",
       "      <td>2</td>\n",
       "      <td>U</td>\n",
       "      <td>01</td>\n",
       "      <td>2</td>\n",
       "    </tr>\n",
       "    <tr>\n",
       "      <th>1847030</th>\n",
       "      <td>2014</td>\n",
       "      <td>12</td>\n",
       "      <td>7</td>\n",
       "      <td>UU</td>\n",
       "      <td>0</td>\n",
       "      <td>02</td>\n",
       "      <td>UU</td>\n",
       "      <td>02</td>\n",
       "      <td>U</td>\n",
       "      <td>U</td>\n",
       "      <td>1</td>\n",
       "      <td>03</td>\n",
       "      <td>2</td>\n",
       "    </tr>\n",
       "    <tr>\n",
       "      <th>1847031</th>\n",
       "      <td>2014</td>\n",
       "      <td>UU</td>\n",
       "      <td>U</td>\n",
       "      <td>14</td>\n",
       "      <td>0</td>\n",
       "      <td>01</td>\n",
       "      <td>02</td>\n",
       "      <td>01</td>\n",
       "      <td>1</td>\n",
       "      <td>5</td>\n",
       "      <td>4</td>\n",
       "      <td>18</td>\n",
       "      <td>1</td>\n",
       "    </tr>\n",
       "    <tr>\n",
       "      <th>1847032</th>\n",
       "      <td>2014</td>\n",
       "      <td>UU</td>\n",
       "      <td>U</td>\n",
       "      <td>UU</td>\n",
       "      <td>0</td>\n",
       "      <td>UU</td>\n",
       "      <td>UU</td>\n",
       "      <td>01</td>\n",
       "      <td>U</td>\n",
       "      <td>U</td>\n",
       "      <td>U</td>\n",
       "      <td>UU</td>\n",
       "      <td>11</td>\n",
       "    </tr>\n",
       "  </tbody>\n",
       "</table>\n",
       "<p>1847033 rows × 13 columns</p>\n",
       "</div>"
      ],
      "text/plain": [
       "         year month weekday hour  fatality vehicles_involved crash_type  \\\n",
       "0        1999     1       1   00         0                01         01   \n",
       "1        1999     1       1   00         0                01         01   \n",
       "2        1999     1       1   00         0                01         01   \n",
       "3        1999     1       1   00         0                01         01   \n",
       "4        1999     1       1   00         0                01         01   \n",
       "...       ...   ...     ...  ...       ...               ...        ...   \n",
       "1847028  2014    12       7   UU         0                02         33   \n",
       "1847029  2014    12       7   UU         0                02         35   \n",
       "1847030  2014    12       7   UU         0                02         UU   \n",
       "1847031  2014    UU       U   14         0                01         02   \n",
       "1847032  2014    UU       U   UU         0                UU         UU   \n",
       "\n",
       "        crash_place crash_weather surface_state road_slope traffic_state  \\\n",
       "0                01             1             4          1            18   \n",
       "1                01             1             5          1            18   \n",
       "2                01             2             1          1            18   \n",
       "3                01             6             3          2            18   \n",
       "4                UU             1             2          3            18   \n",
       "...             ...           ...           ...        ...           ...   \n",
       "1847028          08             2             2          1            18   \n",
       "1847029          02             2             2          U            01   \n",
       "1847030          02             U             U          1            03   \n",
       "1847031          01             1             5          4            18   \n",
       "1847032          01             U             U          U            UU   \n",
       "\n",
       "         n_personas_implicadas  \n",
       "0                            1  \n",
       "1                            1  \n",
       "2                            1  \n",
       "3                            2  \n",
       "4                            1  \n",
       "...                        ...  \n",
       "1847028                      2  \n",
       "1847029                      2  \n",
       "1847030                      2  \n",
       "1847031                      1  \n",
       "1847032                     11  \n",
       "\n",
       "[1847033 rows x 13 columns]"
      ]
     },
     "execution_count": 14,
     "metadata": {},
     "output_type": "execute_result"
    }
   ],
   "source": [
    "acc_df.head()"
   ]
  },
  {
   "cell_type": "markdown",
   "id": "3e605c05-85aa-4273-beb5-f395ab786909",
   "metadata": {},
   "source": [
    "# Missings"
   ]
  },
  {
   "cell_type": "code",
   "execution_count": 15,
   "id": "e08fa013-43d1-40f3-8b64-2444ed44a9bc",
   "metadata": {},
   "outputs": [
    {
     "data": {
      "text/html": [
       "<div>\n",
       "<style scoped>\n",
       "    .dataframe tbody tr th:only-of-type {\n",
       "        vertical-align: middle;\n",
       "    }\n",
       "\n",
       "    .dataframe tbody tr th {\n",
       "        vertical-align: top;\n",
       "    }\n",
       "\n",
       "    .dataframe thead th {\n",
       "        text-align: right;\n",
       "    }\n",
       "</style>\n",
       "<table border=\"1\" class=\"dataframe\">\n",
       "  <thead>\n",
       "    <tr style=\"text-align: right;\">\n",
       "      <th></th>\n",
       "      <th>Q</th>\n",
       "      <th>N</th>\n",
       "      <th>U</th>\n",
       "      <th>X</th>\n",
       "      <th>Porcentaje</th>\n",
       "    </tr>\n",
       "  </thead>\n",
       "  <tbody>\n",
       "    <tr>\n",
       "      <th>year</th>\n",
       "      <td>0.0</td>\n",
       "      <td>0.0</td>\n",
       "      <td>0.0</td>\n",
       "      <td>0.0</td>\n",
       "      <td>0.000000</td>\n",
       "    </tr>\n",
       "    <tr>\n",
       "      <th>month</th>\n",
       "      <td>0.0</td>\n",
       "      <td>0.0</td>\n",
       "      <td>79.0</td>\n",
       "      <td>0.0</td>\n",
       "      <td>0.004277</td>\n",
       "    </tr>\n",
       "    <tr>\n",
       "      <th>weekday</th>\n",
       "      <td>0.0</td>\n",
       "      <td>0.0</td>\n",
       "      <td>484.0</td>\n",
       "      <td>0.0</td>\n",
       "      <td>0.026204</td>\n",
       "    </tr>\n",
       "    <tr>\n",
       "      <th>hour</th>\n",
       "      <td>0.0</td>\n",
       "      <td>0.0</td>\n",
       "      <td>23988.0</td>\n",
       "      <td>0.0</td>\n",
       "      <td>1.298732</td>\n",
       "    </tr>\n",
       "    <tr>\n",
       "      <th>fatality</th>\n",
       "      <td>0.0</td>\n",
       "      <td>0.0</td>\n",
       "      <td>0.0</td>\n",
       "      <td>0.0</td>\n",
       "      <td>0.000000</td>\n",
       "    </tr>\n",
       "    <tr>\n",
       "      <th>vehicles_involved</th>\n",
       "      <td>0.0</td>\n",
       "      <td>0.0</td>\n",
       "      <td>152.0</td>\n",
       "      <td>0.0</td>\n",
       "      <td>0.008229</td>\n",
       "    </tr>\n",
       "    <tr>\n",
       "      <th>crash_type</th>\n",
       "      <td>114117.0</td>\n",
       "      <td>0.0</td>\n",
       "      <td>67699.0</td>\n",
       "      <td>0.0</td>\n",
       "      <td>9.843679</td>\n",
       "    </tr>\n",
       "    <tr>\n",
       "      <th>crash_place</th>\n",
       "      <td>66319.0</td>\n",
       "      <td>0.0</td>\n",
       "      <td>181082.0</td>\n",
       "      <td>0.0</td>\n",
       "      <td>13.394509</td>\n",
       "    </tr>\n",
       "    <tr>\n",
       "      <th>crash_weather</th>\n",
       "      <td>5363.0</td>\n",
       "      <td>0.0</td>\n",
       "      <td>33738.0</td>\n",
       "      <td>0.0</td>\n",
       "      <td>2.116963</td>\n",
       "    </tr>\n",
       "    <tr>\n",
       "      <th>surface_state</th>\n",
       "      <td>62587.0</td>\n",
       "      <td>0.0</td>\n",
       "      <td>29522.0</td>\n",
       "      <td>0.0</td>\n",
       "      <td>4.986863</td>\n",
       "    </tr>\n",
       "    <tr>\n",
       "      <th>road_slope</th>\n",
       "      <td>13048.0</td>\n",
       "      <td>0.0</td>\n",
       "      <td>143763.0</td>\n",
       "      <td>0.0</td>\n",
       "      <td>8.489886</td>\n",
       "    </tr>\n",
       "    <tr>\n",
       "      <th>traffic_state</th>\n",
       "      <td>30160.0</td>\n",
       "      <td>0.0</td>\n",
       "      <td>93605.0</td>\n",
       "      <td>0.0</td>\n",
       "      <td>6.700747</td>\n",
       "    </tr>\n",
       "    <tr>\n",
       "      <th>n_personas_implicadas</th>\n",
       "      <td>0.0</td>\n",
       "      <td>0.0</td>\n",
       "      <td>0.0</td>\n",
       "      <td>0.0</td>\n",
       "      <td>0.000000</td>\n",
       "    </tr>\n",
       "  </tbody>\n",
       "</table>\n",
       "</div>"
      ],
      "text/plain": [
       "                              Q    N         U    X  Porcentaje\n",
       "year                        0.0  0.0       0.0  0.0    0.000000\n",
       "month                       0.0  0.0      79.0  0.0    0.004277\n",
       "weekday                     0.0  0.0     484.0  0.0    0.026204\n",
       "hour                        0.0  0.0   23988.0  0.0    1.298732\n",
       "fatality                    0.0  0.0       0.0  0.0    0.000000\n",
       "vehicles_involved           0.0  0.0     152.0  0.0    0.008229\n",
       "crash_type             114117.0  0.0   67699.0  0.0    9.843679\n",
       "crash_place             66319.0  0.0  181082.0  0.0   13.394509\n",
       "crash_weather            5363.0  0.0   33738.0  0.0    2.116963\n",
       "surface_state           62587.0  0.0   29522.0  0.0    4.986863\n",
       "road_slope              13048.0  0.0  143763.0  0.0    8.489886\n",
       "traffic_state           30160.0  0.0   93605.0  0.0    6.700747\n",
       "n_personas_implicadas       0.0  0.0       0.0  0.0    0.000000"
      ]
     },
     "execution_count": 15,
     "metadata": {},
     "output_type": "execute_result"
    }
   ],
   "source": [
    "def calcular_datos_faltantes(df):\n",
    "    vals_hists = [['Q', 'QQ', 'QQQQ'], ['N', 'NN', 'NNNN'], ['U', 'UU', 'UUUU'], ['X', 'XX', 'XXXX']]\n",
    "    datos_faltantes = {}\n",
    "    total_registros = len(df)\n",
    "\n",
    "    for columna in df.columns:\n",
    "        datos_faltantes[columna] = {}\n",
    "\n",
    "        for valores in vals_hists:\n",
    "            datos_faltantes[columna][valores[0]] = df[columna].isin(valores).sum()\n",
    "        \n",
    "        datos_faltantes[columna]['Porcentaje'] = (sum(datos_faltantes[columna].values()) / total_registros) * 100 \n",
    "\n",
    "    return pd.DataFrame(datos_faltantes)\n",
    "\n",
    "# Ejemplo de uso\n",
    "datos_faltantes_df = calcular_datos_faltantes(acc_df)\n",
    "datos_faltantes_df.T\n"
   ]
  },
  {
   "cell_type": "markdown",
   "id": "910c42c5-95f9-46c6-ba07-2b2082d74c12",
   "metadata": {},
   "source": [
    "Los valores U son los estrictamente desconocidos, missings, asi que decidimos eliminarlos. En cambio, los valores Q corresponden a 'una categoria distinta a las demas'. Consideramos en este caso que es importante tenerlas en cuenta. Las variables que tienen Q son : crash_type, crash_place, crash_weather, surface_state, road_slope, traffic_state. Mas adelante las integramos con el resto de variables."
   ]
  },
  {
   "cell_type": "code",
   "execution_count": 16,
   "id": "7eedafeb-8682-4261-9e08-32d8dc1b5c35",
   "metadata": {},
   "outputs": [],
   "source": [
    "# Remplazamos U, UU y UUUU por NAs\n",
    "acc_df = acc_df.replace({\"U\": np.nan, \"UU\": np.nan, \"UUUU\": np.nan})"
   ]
  },
  {
   "cell_type": "code",
   "execution_count": 17,
   "id": "0db7ff42-f13c-43e5-8abe-68cbb9b89f17",
   "metadata": {},
   "outputs": [],
   "source": [
    "acc_df.isnull().sum()\n",
    "acc_df = acc_df.dropna()"
   ]
  },
  {
   "cell_type": "code",
   "execution_count": 18,
   "id": "190207c3-eb87-4128-865c-79a557f79236",
   "metadata": {},
   "outputs": [
    {
     "name": "stdout",
     "output_type": "stream",
     "text": [
      "(1489758, 13)\n"
     ]
    }
   ],
   "source": [
    "print(acc_df.shape)"
   ]
  },
  {
   "cell_type": "markdown",
   "id": "7f47130a-570b-4705-9c01-142ded4c1201",
   "metadata": {},
   "source": [
    "# Tranformacion de variables categóricas"
   ]
  },
  {
   "cell_type": "markdown",
   "id": "bdeb84c0-2cc7-423b-a09e-7cd0265f378e",
   "metadata": {},
   "source": [
    "Con el fin de simplificar las variables lo maximo posible, vamos a simplificar algunas variables categóricas."
   ]
  },
  {
   "cell_type": "code",
   "execution_count": 19,
   "id": "ef6f0693-4c6f-4330-b263-d15a99f54698",
   "metadata": {},
   "outputs": [
    {
     "name": "stdout",
     "output_type": "stream",
     "text": [
      "<class 'pandas.core.frame.DataFrame'>\n",
      "Int64Index: 1489758 entries, 0 to 1847022\n",
      "Data columns (total 13 columns):\n",
      " #   Column                 Non-Null Count    Dtype \n",
      "---  ------                 --------------    ----- \n",
      " 0   year                   1489758 non-null  int64 \n",
      " 1   month                  1489758 non-null  object\n",
      " 2   weekday                1489758 non-null  object\n",
      " 3   hour                   1489758 non-null  object\n",
      " 4   fatality               1489758 non-null  int64 \n",
      " 5   vehicles_involved      1489758 non-null  object\n",
      " 6   crash_type             1489758 non-null  object\n",
      " 7   crash_place            1489758 non-null  object\n",
      " 8   crash_weather          1489758 non-null  object\n",
      " 9   surface_state          1489758 non-null  object\n",
      " 10  road_slope             1489758 non-null  object\n",
      " 11  traffic_state          1489758 non-null  object\n",
      " 12  n_personas_implicadas  1489758 non-null  int64 \n",
      "dtypes: int64(3), object(10)\n",
      "memory usage: 159.1+ MB\n"
     ]
    }
   ],
   "source": [
    "acc_df.info()"
   ]
  },
  {
   "cell_type": "markdown",
   "id": "5f049dea-bc77-4fe8-8673-eab6fd864cf5",
   "metadata": {},
   "source": [
    "### Hour"
   ]
  },
  {
   "cell_type": "code",
   "execution_count": 19,
   "id": "fe12f7bb-dbce-4025-adbd-98a70f4f94fa",
   "metadata": {},
   "outputs": [
    {
     "data": {
      "text/plain": [
       "array(['noche', 'mañana', 'tarde'], dtype=object)"
      ]
     },
     "execution_count": 19,
     "metadata": {},
     "output_type": "execute_result"
    }
   ],
   "source": [
    "categories = {\n",
    "    'noche' : ['20', '21', '22', '23', '00', '01', '02', '03', '04', '05', '06'],\n",
    "    'mañana' : ['07', '08', '09', '10', '11', '12', '13'],\n",
    "    'tarde' : ['14', '15', '16', '17', '18', '19']\n",
    "}\n",
    "\n",
    "for cat in categories:\n",
    "    acc_df['hour'] = acc_df['hour'].replace(to_replace = categories[cat], value = cat)\n",
    "\n",
    "acc_df['hour'].unique()"
   ]
  },
  {
   "cell_type": "markdown",
   "id": "0e269096-d03c-43d7-92dd-91be3e3ff2df",
   "metadata": {},
   "source": [
    "### crash_type"
   ]
  },
  {
   "cell_type": "code",
   "execution_count": 20,
   "id": "a389d517-441e-4230-8fba-2d875ffb672c",
   "metadata": {},
   "outputs": [
    {
     "data": {
      "text/plain": [
       "array(['un vehiculo', '2 misma direccion', '2 direccion opuesta', 'QQ'],\n",
       "      dtype=object)"
      ]
     },
     "execution_count": 20,
     "metadata": {},
     "output_type": "execute_result"
    }
   ],
   "source": [
    "categories = {\n",
    "    'un vehiculo' : ['01', '02', '03', '04', '05', '06'],\n",
    "    '2 misma direccion' : ['21', '22', '23', '24', '25'],\n",
    "    '2 direccion opuesta' : ['31', '32', '33', '34', '35', '36', '41']\n",
    "}\n",
    "\n",
    "for cat in categories:\n",
    "    acc_df['crash_type'] = acc_df['crash_type'].replace(to_replace = categories[cat], value = cat)\n",
    "acc_df['crash_type'].unique()\n"
   ]
  },
  {
   "cell_type": "markdown",
   "id": "673967f7-66f1-4bd7-ac80-ac66ea4aa0dc",
   "metadata": {},
   "source": [
    "### crash_place"
   ]
  },
  {
   "cell_type": "code",
   "execution_count": 21,
   "id": "fcfce3b3-d047-4662-aabf-92dcb5267819",
   "metadata": {},
   "outputs": [
    {
     "data": {
      "text/plain": [
       "array(['normal', 'especifico'], dtype=object)"
      ]
     },
     "execution_count": 21,
     "metadata": {},
     "output_type": "execute_result"
    }
   ],
   "source": [
    "categories = {\n",
    "    'normal' : ['01'],\n",
    "    'especifico' : ['02', '03', '04', '05', '06', '07', '08', '09', '10','QQ']\n",
    "}\n",
    "\n",
    "for cat in categories:\n",
    "    acc_df['crash_place'] = acc_df['crash_place'].replace(to_replace = categories[cat], value = cat)\n",
    "acc_df['crash_place'].unique()"
   ]
  },
  {
   "cell_type": "markdown",
   "id": "345ef93a-24c3-4ef3-bc84-20aec7e7db3d",
   "metadata": {},
   "source": [
    "### crash_weather"
   ]
  },
  {
   "cell_type": "code",
   "execution_count": 22,
   "id": "f68adfd7-67a7-4bb9-acaf-7f70769184ce",
   "metadata": {},
   "outputs": [
    {
     "data": {
      "text/plain": [
       "array(['normal', 'mal'], dtype=object)"
      ]
     },
     "execution_count": 22,
     "metadata": {},
     "output_type": "execute_result"
    }
   ],
   "source": [
    "categories = {\n",
    "    'normal' : ['1'],\n",
    "    'mal' : ['3', '2', '4', '5', '6', '7','Q']\n",
    "}\n",
    "\n",
    "for cat in categories:\n",
    "    acc_df['crash_weather'] = acc_df['crash_weather'].replace(to_replace = categories[cat], value = cat)\n",
    "\n",
    "acc_df['crash_weather'].unique()"
   ]
  },
  {
   "cell_type": "markdown",
   "id": "1c3c98bc-3530-47a4-9872-9c5ff4a625db",
   "metadata": {},
   "source": [
    "### surface_state"
   ]
  },
  {
   "cell_type": "code",
   "execution_count": 23,
   "id": "df6409ac-cba6-47cb-bf67-b30c8a602fa1",
   "metadata": {},
   "outputs": [
    {
     "data": {
      "text/plain": [
       "array(['peligroso', 'normal'], dtype=object)"
      ]
     },
     "execution_count": 23,
     "metadata": {},
     "output_type": "execute_result"
    }
   ],
   "source": [
    "categories = {\n",
    "    'normal' : ['1', '2'],\n",
    "    'peligroso' : ['3', '4', '5', '6', '7', '8', '9', 'Q']\n",
    "}\n",
    "\n",
    "for cat in categories:\n",
    "    acc_df['surface_state'] = acc_df['surface_state'].replace(to_replace = categories[cat], value = cat)\n",
    "acc_df['surface_state'].unique()"
   ]
  },
  {
   "cell_type": "markdown",
   "id": "a3e388ba-805b-4c88-a342-c1797015f39c",
   "metadata": {},
   "source": [
    "### road_slope"
   ]
  },
  {
   "cell_type": "code",
   "execution_count": 24,
   "id": "c921949c-e689-4691-abb2-037ba13ebcaa",
   "metadata": {},
   "outputs": [
    {
     "data": {
      "text/plain": [
       "array(['normal', 'curva/rampa'], dtype=object)"
      ]
     },
     "execution_count": 24,
     "metadata": {},
     "output_type": "execute_result"
    }
   ],
   "source": [
    "categories = {\n",
    "    'normal' : ['1'],\n",
    "    'curva/rampa' : ['2', '3', '4', '5', '6', 'Q']\n",
    "}\n",
    "\n",
    "for cat in categories:\n",
    "    acc_df['road_slope'] = acc_df['road_slope'].replace(to_replace = categories[cat], value = cat)\n",
    "\n",
    "acc_df['road_slope'].unique()"
   ]
  },
  {
   "cell_type": "markdown",
   "id": "a4068d66-187a-4f92-b9dd-951f3899890c",
   "metadata": {},
   "source": [
    "### traffic_state"
   ]
  },
  {
   "cell_type": "code",
   "execution_count": 25,
   "id": "a3e43af1-29e8-4499-a56d-b6a4bfaca1ff",
   "metadata": {},
   "outputs": [
    {
     "data": {
      "text/plain": [
       "array(['no seguro', 'seguro'], dtype=object)"
      ]
     },
     "execution_count": 25,
     "metadata": {},
     "output_type": "execute_result"
    }
   ],
   "source": [
    "categories = {\n",
    "    'seguro' : ['01', '02', '03', '04', '05', '06', '07', '08', '09', '10', '11', '12', '13', '14', '15', '16', '17', 'QQ'],\n",
    "    'no seguro' : ['18']\n",
    "}\n",
    "\n",
    "for cat in categories:\n",
    "    acc_df['traffic_state'] = acc_df['traffic_state'].replace(to_replace = categories[cat], value = cat)\n",
    "acc_df['traffic_state'].unique()"
   ]
  },
  {
   "cell_type": "code",
   "execution_count": 26,
   "id": "c8725a99-9a3e-4b4b-8f5c-a281b3e1c889",
   "metadata": {},
   "outputs": [],
   "source": [
    "def norm_category(df, objetivo, categorica):    \n",
    "    # Agrupamos y contamos las ocurrencias de las categorías en función de la variable objetivo.\n",
    "    grouped = df.groupby([objetivo, categorica]).count().iloc[:,1]\n",
    "    grouped = grouped.reset_index()\n",
    "    grouped.columns = [objetivo, categorica, 'counted']\n",
    "    \n",
    "    # Calculamos el porcentaje para cada grupo (variable objetivo) del total de elementos de dicha categoría (subgrupo)\n",
    "    grouped['group%'] = np.round(grouped['counted'] / \n",
    "                                 grouped.groupby(objetivo)['counted'].transform('sum') * 100, decimals = 3)\n",
    "    return grouped"
   ]
  },
  {
   "cell_type": "code",
   "execution_count": 199,
   "id": "2f9c5394-4602-4053-afb7-361a9ed4423f",
   "metadata": {},
   "outputs": [
    {
     "data": {
      "image/png": "[encoded data removed]",
      "text/plain": [
       "<Figure size 1080x2520 with 8 Axes>"
      ]
     },
     "metadata": {
      "needs_background": "light"
     },
     "output_type": "display_data"
    }
   ],
   "source": [
    "categorical = [\"hour\", \"crash_type\", \"crash_place\", \"crash_weather\",\n",
    "\"surface_state\", \"road_slope\", \"traffic_state\"]\n",
    "\n",
    "fig, axes = plt.subplots(4, 2, figsize=(15, 35), sharey=False)\n",
    "fig.suptitle('Categorial Values by Severity (normalized)')\n",
    "\n",
    "i = 0 # fila del dibujo\n",
    "j = 0 # columna del dibujo\n",
    "\n",
    "# Impresión de cada categoría\n",
    "for cat in categorical:\n",
    "    # Normalizamos la categoría para que sea visulamente interpretable\n",
    "    temp = norm_category(df = acc_df, objetivo = 'fatality', categorica = cat)\n",
    "    # Creamos la gráfica\n",
    "    sns.barplot(data = temp, x = cat, y = 'group%', hue = 'fatality', palette=['green', 'yellow'],ax = axes[i,j]);\n",
    "    \n",
    "    # Modificamos los índices de las gráficas para su dibujo\n",
    "    if (j == 0): \n",
    "        j = 1\n",
    "    else:\n",
    "        j = 0\n",
    "        i += 1"
   ]
  },
  {
   "cell_type": "code",
   "execution_count": 201,
   "id": "e4b83d39-6bdb-48a1-b2de-c7a451a26fff",
   "metadata": {},
   "outputs": [
    {
     "data": {
      "image/png": "[encoded data removed]",
      "text/plain": [
       "<Figure size 720x432 with 1 Axes>"
      ]
     },
     "metadata": {
      "needs_background": "light"
     },
     "output_type": "display_data"
    }
   ],
   "source": [
    "import matplotlib.pyplot as plt\n",
    "\n",
    "# Agrupar y contar los accidentes por año y fatality\n",
    "grouped = acc_df.groupby(['year', 'fatality']).size().unstack()\n",
    "\n",
    "# Crear una figura y ejes\n",
    "fig, ax = plt.subplots(figsize=(10, 6))\n",
    "\n",
    "# Configurar los datos y etiquetas para cada barra\n",
    "bar_width = 0.35\n",
    "x = grouped.index\n",
    "y1 = grouped[1].fillna(0)\n",
    "y0 = grouped[0].fillna(0)\n",
    "\n",
    "# Dibujar las barras para fatality=1\n",
    "ax.bar(x, y1, width=bar_width, label='Mortal')\n",
    "\n",
    "# Dibujar las barras para fatality=0\n",
    "ax.bar(x, y0, width=bar_width, bottom=y1, label='No mortal')\n",
    "\n",
    "# Configurar los ejes y etiquetas\n",
    "ax.set_xlabel('Año')\n",
    "ax.set_ylabel('Recuento de Accidentes')\n",
    "ax.set_title('Recuento de Accidentes por Año y Fatality')\n",
    "ax.legend()\n",
    "\n",
    "# Mostrar el gráfico\n",
    "plt.show()\n"
   ]
  },
  {
   "cell_type": "code",
   "execution_count": 217,
   "id": "540548dc-bbfa-447b-a59b-870763ccf6df",
   "metadata": {},
   "outputs": [
    {
     "data": {
      "image/png": "[encoded data removed]",
      "text/plain": [
       "<Figure size 720x432 with 1 Axes>"
      ]
     },
     "metadata": {
      "needs_background": "light"
     },
     "output_type": "display_data"
    }
   ],
   "source": [
    "import matplotlib.pyplot as plt\n",
    "\n",
    "# Filtrar el dataframe para incluir únicamente los casos con fatality = 1\n",
    "filtered_df = acc_df[acc_df['fatality'] == 1]\n",
    "\n",
    "# Agrupar y contar los accidentes por año\n",
    "grouped = filtered_df.groupby('year').size()\n",
    "\n",
    "# Calcular la media\n",
    "mean_value = grouped.mean()\n",
    "\n",
    "# Crear una figura y ejes\n",
    "fig, ax = plt.subplots(figsize=(10, 6))\n",
    "\n",
    "# Configurar los datos y etiquetas para cada barra\n",
    "x = grouped.index\n",
    "y = grouped.values\n",
    "\n",
    "# Dibujar las barras\n",
    "ax.bar(x, y)\n",
    "\n",
    "# Dibujar la línea de la media\n",
    "ax.axhline(mean_value, color='red', linestyle='-', label='Media')\n",
    "\n",
    "# Configurar los ejes y etiquetas\n",
    "ax.set_xlabel('Año')\n",
    "ax.set_ylabel('Recuento de Accidentes (Fatality=1)')\n",
    "ax.set_title('Recuento de Accidentes Fatality=1 por Año')\n",
    "\n",
    "# Mostrar la leyenda\n",
    "ax.legend()\n",
    "\n",
    "# Mostrar el gráfico\n",
    "plt.show()\n",
    "\n"
   ]
  },
  {
   "cell_type": "markdown",
   "id": "f1fd55e3-7b49-4491-93ad-c0127d4c757c",
   "metadata": {},
   "source": [
    "Podemos ver una caida en el numero de accidentes en los ultimos años"
   ]
  },
  {
   "cell_type": "markdown",
   "id": "bd78ac8e-b58f-46f8-917f-864ad3deb685",
   "metadata": {
    "tags": []
   },
   "source": [
    "# Outliers"
   ]
  },
  {
   "cell_type": "code",
   "execution_count": 224,
   "id": "4bb67d33-52da-43bc-861a-c0b6ea8a03c5",
   "metadata": {},
   "outputs": [
    {
     "data": {
      "text/plain": [
       "<AxesSubplot:xlabel='n_personas_implicadas'>"
      ]
     },
     "execution_count": 224,
     "metadata": {},
     "output_type": "execute_result"
    },
    {
     "data": {
      "image/png": "[encoded data removed]",
      "text/plain": [
       "<Figure size 1296x288 with 1 Axes>"
      ]
     },
     "metadata": {},
     "output_type": "display_data"
    }
   ],
   "source": [
    "sns.set(rc={'figure.figsize':(18, 4)})\n",
    "sns.boxplot(acc_df[\"n_personas_implicadas\"])"
   ]
  },
  {
   "cell_type": "markdown",
   "id": "279b8e4d-bddb-41b3-b127-88815d4bd04e",
   "metadata": {},
   "source": [
    "En la variable numero de personas implicadas en un accidente, podemos apreciar claramente que es mas frecuente tener un numero bajo de implicados en el accidente. Tambien podemos observar que hay accidentes con mas de 70 personas implicadas estos pueden ser accidentes multiples o autobuses."
   ]
  },
  {
   "cell_type": "code",
   "execution_count": 225,
   "id": "24290dcb-0860-4c54-90a8-544187b44ce2",
   "metadata": {},
   "outputs": [
    {
     "data": {
      "text/plain": [
       "<AxesSubplot:xlabel='vehicles_involved'>"
      ]
     },
     "execution_count": 225,
     "metadata": {},
     "output_type": "execute_result"
    },
    {
     "data": {
      "image/png": "[encoded data removed]",
      "text/plain": [
       "<Figure size 1296x288 with 1 Axes>"
      ]
     },
     "metadata": {},
     "output_type": "display_data"
    }
   ],
   "source": [
    "sns.set(rc={'figure.figsize':(18, 4)})\n",
    "sns.boxplot(acc_df[\"vehicles_involved\"])"
   ]
  },
  {
   "cell_type": "markdown",
   "id": "3ecb96b8-6e8b-4b1f-be25-7d72fe253625",
   "metadata": {},
   "source": [
    "# Tranformacion de variables discretas"
   ]
  },
  {
   "cell_type": "code",
   "execution_count": 28,
   "id": "db7fdfa8-bbd9-4e53-8aed-e6b50c96c90a",
   "metadata": {},
   "outputs": [],
   "source": [
    "numeric_var = ['year','month', 'weekday', 'vehicles_involved']\n",
    "acc_df[numeric_var] = acc_df[numeric_var].astype(float)"
   ]
  },
  {
   "cell_type": "code",
   "execution_count": 29,
   "id": "21023629-2160-4a1a-8100-219a253ea177",
   "metadata": {},
   "outputs": [
    {
     "name": "stdout",
     "output_type": "stream",
     "text": [
      "year\n",
      "[1999. 2000. 2001. 2002. 2003. 2004. 2005. 2006. 2007. 2008. 2009. 2010.\n",
      " 2011. 2012. 2013. 2014.]\n",
      "-------------------------\n",
      "month\n",
      "[ 1.  2.  3.  4.  5.  6.  7.  8.  9. 10. 11. 12.]\n",
      "-------------------------\n",
      "weekday\n",
      "[1. 2. 3. 4. 5. 6. 7.]\n",
      "-------------------------\n",
      "hour\n",
      "['noche' 'mañana' 'tarde']\n",
      "-------------------------\n",
      "fatality\n",
      "[0 1]\n",
      "-------------------------\n",
      "vehicles_involved\n",
      "[ 1.  2.  9.  3.  4.  6.  5.  7.  8. 13. 12. 14. 10. 16. 26. 71. 19. 11.\n",
      " 21. 27. 35. 15. 41. 22. 46. 25. 31. 18. 56. 23. 17. 36. 20. 29. 38. 77.\n",
      " 28. 32. 33. 72. 44. 58. 40. 30. 24. 39. 34. 57. 43. 37. 51.]\n",
      "-------------------------\n",
      "crash_type\n",
      "['un vehiculo' '2 misma direccion' '2 direccion opuesta' 'QQ']\n",
      "-------------------------\n",
      "crash_place\n",
      "['normal' 'especifico']\n",
      "-------------------------\n",
      "crash_weather\n",
      "['normal' 'mal']\n",
      "-------------------------\n",
      "surface_state\n",
      "['peligroso' 'normal']\n",
      "-------------------------\n",
      "road_slope\n",
      "['normal' 'curva/rampa']\n",
      "-------------------------\n",
      "traffic_state\n",
      "['no seguro' 'seguro']\n",
      "-------------------------\n",
      "n_personas_implicadas\n",
      "[ 1  2  9  3  4  5  7  6 10  8 14 12 13 15 16 11 17 18 19 20 23 22 24 26\n",
      " 32 30 25 21 42 28 27 33 71 34 41 46 31 29 39 56 36 35 38 77 72 44 58 57\n",
      " 43 37 51]\n",
      "-------------------------\n"
     ]
    }
   ],
   "source": [
    "for col in acc_df.columns:\n",
    "    print(col)\n",
    "    print(acc_df[col].unique())\n",
    "    print('-------------------------')"
   ]
  },
  {
   "cell_type": "markdown",
   "id": "b3769817-819d-4dd4-83c2-3283f2d1cb0d",
   "metadata": {},
   "source": [
    "# Balanceo variable fatality"
   ]
  },
  {
   "cell_type": "code",
   "execution_count": 30,
   "id": "36c7c4f7-687f-44c0-bc73-4bbc4e802f1b",
   "metadata": {},
   "outputs": [
    {
     "data": {
      "image/png": "[encoded data removed]",
      "text/plain": [
       "<Figure size 720x432 with 1 Axes>"
      ]
     },
     "metadata": {
      "needs_background": "light"
     },
     "output_type": "display_data"
    }
   ],
   "source": [
    "# Plot variable 'fatality'\n",
    "\n",
    "# Contar la cantidad de observaciones de cada categoría\n",
    "conteo_fatality = acc_df['fatality'].value_counts()\n",
    "\n",
    "plt.figure(figsize=(10, 6))  # Tamaño del gráfico (ancho, alto)\n",
    "plt.bar(conteo_fatality.index, conteo_fatality.values, color=['red', 'blue'])\n",
    "\n",
    "# Personalizar el gráfico\n",
    "plt.xlabel('Fatality')\n",
    "plt.ylabel('Cantidad de observaciones')\n",
    "plt.title('Cantidad de observaciones por Fatality')\n",
    "\n",
    "# Mostrar el gráfico\n",
    "plt.show()\n"
   ]
  },
  {
   "cell_type": "markdown",
   "id": "d87e8d37-68b9-49c8-88c7-5154c7fb0d49",
   "metadata": {},
   "source": [
    "Hay varias formas de balancear esta variable: \n",
    "* Submuestreo aleatorio (undersampling): Consiste en reducir la cantidad de muestras de la clase mayoritaria para que sea igual a la cantidad de muestras de la clase minoritaria.\n",
    "\n",
    "* Sobremuestreo aleatorio (oversampling): Implica aumentar la cantidad de muestras de la clase minoritaria para que sea igual o similar a la cantidad de muestras de la clase mayoritaria. Esto se puede hacer replicando muestras existentes o generando muestras sintéticas.\n",
    "\n",
    "* Técnicas de combinación (combination sampling): Estas técnicas combinan submuestreo y sobremuestreo para equilibrar las clases. Algunos ejemplos son SMOTE (Synthetic Minority Over-sampling Technique) y ADASYN (Adaptive Synthetic Sampling)."
   ]
  },
  {
   "cell_type": "code",
   "execution_count": 31,
   "id": "2b360a0c-67a6-491e-8b91-320a04fbeb16",
   "metadata": {},
   "outputs": [
    {
     "name": "stdout",
     "output_type": "stream",
     "text": [
      "0    1459425\n",
      "1    1459425\n",
      "Name: fatality, dtype: int64\n"
     ]
    }
   ],
   "source": [
    "from imblearn.over_sampling import RandomOverSampler\n",
    "\n",
    "# Supongamos que tienes el DataFrame acc_df con una columna llamada \"fatality\"\n",
    "\n",
    "# Contar la cantidad de muestras en cada clase\n",
    "conteo_clases = acc_df['fatality'].value_counts()\n",
    "\n",
    "# Obtener la clase mayoritaria y minoritaria\n",
    "clase_mayoritaria = conteo_clases.idxmax()\n",
    "clase_minoritaria = conteo_clases.idxmin()\n",
    "\n",
    "# Aplicar sobremuestreo aleatorio\n",
    "oversampler = RandomOverSampler(random_state=42)\n",
    "X_resampled, y_resampled = oversampler.fit_resample(acc_df.drop('fatality', axis=1), acc_df['fatality'])\n",
    "\n",
    "# Crear un nuevo DataFrame balanceado\n",
    "acc_df_balanceado = pd.DataFrame(X_resampled, columns=acc_df.columns.drop('fatality'))\n",
    "acc_df_balanceado['fatality'] = y_resampled\n",
    "\n",
    "# Verificar el balanceo\n",
    "conteo_clases_balanceado = acc_df_balanceado['fatality'].value_counts()\n",
    "print(conteo_clases_balanceado)\n"
   ]
  },
  {
   "cell_type": "markdown",
   "id": "2a469950-a440-48f7-bb1b-2b47d891ce3d",
   "metadata": {},
   "source": [
    "# Codificacion de variables"
   ]
  },
  {
   "cell_type": "markdown",
   "id": "d7f4c9eb-d7aa-406c-85f9-1b3a02e58432",
   "metadata": {},
   "source": [
    "## Label Encoder binario"
   ]
  },
  {
   "cell_type": "markdown",
   "id": "7b3fb942-9705-41d9-8877-962e017e38d4",
   "metadata": {},
   "source": [
    "El Binary Encoding asigna un número binario (0 o 1) único a cada categoría. Por ejemplo, si tienes una variable categórica \"crash_place\" con las categorías \"especifico\" y \"normal\", el Binary Encoding podría asignar \"0\" para \"especifico\" y \"1\" para \"normal\"."
   ]
  },
  {
   "cell_type": "code",
   "execution_count": 32,
   "id": "7d295aaf-4f29-4a7d-bbb1-3b8c367754a4",
   "metadata": {},
   "outputs": [
    {
     "name": "stdout",
     "output_type": "stream",
     "text": [
      "['mañana' 'noche' 'tarde']\n",
      "['2 direccion opuesta' '2 misma direccion' 'QQ' 'un vehiculo']\n",
      "['especifico' 'normal']\n",
      "['mal' 'normal']\n",
      "['normal' 'peligroso']\n",
      "['no seguro' 'seguro']\n",
      "['curva/rampa' 'normal']\n"
     ]
    }
   ],
   "source": [
    "labelCat = ['hour', 'crash_type','crash_place', 'crash_weather', 'surface_state', 'traffic_state', 'road_slope']\n",
    "lb = preprocessing.LabelEncoder()\n",
    "for cat in labelCat:\n",
    "    acc_df_balanceado[cat] = lb.fit_transform(acc_df_balanceado[cat])\n",
    "    print(lb.classes_)"
   ]
  },
  {
   "cell_type": "code",
   "execution_count": 34,
   "id": "e073c2b2-00e0-486b-bd78-91d7e9f32171",
   "metadata": {},
   "outputs": [
    {
     "data": {
      "text/html": [
       "<div>\n",
       "<style scoped>\n",
       "    .dataframe tbody tr th:only-of-type {\n",
       "        vertical-align: middle;\n",
       "    }\n",
       "\n",
       "    .dataframe tbody tr th {\n",
       "        vertical-align: top;\n",
       "    }\n",
       "\n",
       "    .dataframe thead th {\n",
       "        text-align: right;\n",
       "    }\n",
       "</style>\n",
       "<table border=\"1\" class=\"dataframe\">\n",
       "  <thead>\n",
       "    <tr style=\"text-align: right;\">\n",
       "      <th></th>\n",
       "      <th>year</th>\n",
       "      <th>month</th>\n",
       "      <th>weekday</th>\n",
       "      <th>hour</th>\n",
       "      <th>vehicles_involved</th>\n",
       "      <th>crash_type</th>\n",
       "      <th>crash_place</th>\n",
       "      <th>crash_weather</th>\n",
       "      <th>surface_state</th>\n",
       "      <th>road_slope</th>\n",
       "      <th>traffic_state</th>\n",
       "      <th>n_personas_implicadas</th>\n",
       "      <th>fatality</th>\n",
       "    </tr>\n",
       "  </thead>\n",
       "  <tbody>\n",
       "    <tr>\n",
       "      <th>0</th>\n",
       "      <td>1999.0</td>\n",
       "      <td>1.0</td>\n",
       "      <td>1.0</td>\n",
       "      <td>1</td>\n",
       "      <td>1.0</td>\n",
       "      <td>3</td>\n",
       "      <td>1</td>\n",
       "      <td>1</td>\n",
       "      <td>1</td>\n",
       "      <td>1</td>\n",
       "      <td>0</td>\n",
       "      <td>1</td>\n",
       "      <td>0</td>\n",
       "    </tr>\n",
       "    <tr>\n",
       "      <th>1</th>\n",
       "      <td>1999.0</td>\n",
       "      <td>1.0</td>\n",
       "      <td>1.0</td>\n",
       "      <td>1</td>\n",
       "      <td>1.0</td>\n",
       "      <td>3</td>\n",
       "      <td>1</td>\n",
       "      <td>1</td>\n",
       "      <td>1</td>\n",
       "      <td>1</td>\n",
       "      <td>0</td>\n",
       "      <td>1</td>\n",
       "      <td>0</td>\n",
       "    </tr>\n",
       "    <tr>\n",
       "      <th>2</th>\n",
       "      <td>1999.0</td>\n",
       "      <td>1.0</td>\n",
       "      <td>1.0</td>\n",
       "      <td>1</td>\n",
       "      <td>1.0</td>\n",
       "      <td>3</td>\n",
       "      <td>1</td>\n",
       "      <td>0</td>\n",
       "      <td>0</td>\n",
       "      <td>1</td>\n",
       "      <td>0</td>\n",
       "      <td>1</td>\n",
       "      <td>0</td>\n",
       "    </tr>\n",
       "    <tr>\n",
       "      <th>3</th>\n",
       "      <td>1999.0</td>\n",
       "      <td>1.0</td>\n",
       "      <td>1.0</td>\n",
       "      <td>1</td>\n",
       "      <td>1.0</td>\n",
       "      <td>3</td>\n",
       "      <td>1</td>\n",
       "      <td>0</td>\n",
       "      <td>1</td>\n",
       "      <td>0</td>\n",
       "      <td>0</td>\n",
       "      <td>2</td>\n",
       "      <td>0</td>\n",
       "    </tr>\n",
       "    <tr>\n",
       "      <th>4</th>\n",
       "      <td>1999.0</td>\n",
       "      <td>1.0</td>\n",
       "      <td>1.0</td>\n",
       "      <td>1</td>\n",
       "      <td>1.0</td>\n",
       "      <td>3</td>\n",
       "      <td>1</td>\n",
       "      <td>0</td>\n",
       "      <td>1</td>\n",
       "      <td>0</td>\n",
       "      <td>0</td>\n",
       "      <td>1</td>\n",
       "      <td>0</td>\n",
       "    </tr>\n",
       "  </tbody>\n",
       "</table>\n",
       "</div>"
      ],
      "text/plain": [
       "     year  month  weekday  hour  vehicles_involved  crash_type  crash_place  \\\n",
       "0  1999.0    1.0      1.0     1                1.0           3            1   \n",
       "1  1999.0    1.0      1.0     1                1.0           3            1   \n",
       "2  1999.0    1.0      1.0     1                1.0           3            1   \n",
       "3  1999.0    1.0      1.0     1                1.0           3            1   \n",
       "4  1999.0    1.0      1.0     1                1.0           3            1   \n",
       "\n",
       "   crash_weather  surface_state  road_slope  traffic_state  \\\n",
       "0              1              1           1              0   \n",
       "1              1              1           1              0   \n",
       "2              0              0           1              0   \n",
       "3              0              1           0              0   \n",
       "4              0              1           0              0   \n",
       "\n",
       "   n_personas_implicadas  fatality  \n",
       "0                      1         0  \n",
       "1                      1         0  \n",
       "2                      1         0  \n",
       "3                      2         0  \n",
       "4                      1         0  "
      ]
     },
     "execution_count": 34,
     "metadata": {},
     "output_type": "execute_result"
    }
   ],
   "source": [
    "acc_df_balanceado.head()"
   ]
  },
  {
   "cell_type": "markdown",
   "id": "bc44701c-2f17-426b-be63-4530c5635e1e",
   "metadata": {},
   "source": [
    "# Seleccion de variables "
   ]
  },
  {
   "cell_type": "code",
   "execution_count": 35,
   "id": "1cb754bc-47fe-43b6-a58d-0d61baf4667c",
   "metadata": {},
   "outputs": [
    {
     "data": {
      "image/png": "[encoded data removed]",
      "text/plain": [
       "<Figure size 360x360 with 2 Axes>"
      ]
     },
     "metadata": {
      "needs_background": "light"
     },
     "output_type": "display_data"
    }
   ],
   "source": [
    "# Compute the correlation matrix\n",
    "corr = np.abs(acc_df_balanceado[['month','weekday','fatality', 'year', 'vehicles_involved', 'n_personas_implicadas']]).corr()\n",
    "\n",
    "# Generate a mask for the upper triangle\n",
    "mask = np.zeros_like(corr, dtype=np.bool)\n",
    "mask[np.triu_indices_from(mask)] = True\n",
    "\n",
    "# Set up the matplotlib figure\n",
    "f, ax = plt.subplots(figsize=(5, 5))\n",
    "\n",
    "# Draw the heatmap with the mask and correct aspect ratio\n",
    "sns.heatmap(corr, mask=mask,vmin = 0.0, vmax=1.0, center=0.5,\n",
    "            linewidths=.1, cmap=\"YlGnBu\", cbar_kws={\"shrink\": .8})\n",
    "\n",
    "plt.show()"
   ]
  },
  {
   "cell_type": "markdown",
   "id": "922202b0-f933-4a13-b3dc-0213eafa7daa",
   "metadata": {},
   "source": [
    "Vemos que no existe una gran correlacion entre las variables y la variable objectivo. Sin embargo, las variables n_personas_implicadas y vehicles_involved muestran una alta correlación. Esta es normal teniendo en cuenta que el número de vehículos involucrados tienen una relación con las personas involucradas al ser estas usuarios de estos vehículos.  Su correlación tampoco es muy elevada como para ser eliminadas."
   ]
  },
  {
   "cell_type": "code",
   "execution_count": 36,
   "id": "bad030cb-9763-40db-ab54-a3e2efd81acd",
   "metadata": {},
   "outputs": [
    {
     "data": {
      "image/png": "[encoded data removed]",
      "text/plain": [
       "<Figure size 1440x360 with 2 Axes>"
      ]
     },
     "metadata": {
      "needs_background": "light"
     },
     "output_type": "display_data"
    }
   ],
   "source": [
    "feature_names = acc_df_balanceado.columns[:-1]\n",
    "\n",
    "y = acc_df_balanceado['fatality']  # Nos quedamos con la columna 'fatality'\n",
    "X = acc_df_balanceado.drop('fatality', axis=1)  # Eliminamos la columna 'fatality' del DataFrame\n",
    "\n",
    "# do calculations\n",
    "f_test, _ = f_regression(X, y)\n",
    "f_test /= np.max(f_test)\n",
    "\n",
    "mi = mutual_info_regression(X, y)\n",
    "mi /= np.max(mi)\n",
    "\n",
    "# Obtener los índices ordenados de mayor a menor\n",
    "f_test_indices = np.argsort(f_test)[::-1]\n",
    "mi_indices = np.argsort(mi)[::-1]\n",
    "\n",
    "# do some plotting\n",
    "plt.figure(figsize=(20, 5))\n",
    "\n",
    "plt.subplot(1,2,1)\n",
    "plt.bar(range(X.shape[1]),f_test[f_test_indices],  align=\"center\")\n",
    "plt.xticks(range(X.shape[1]),feature_names[f_test_indices], rotation = 90)\n",
    "plt.xlabel('features')\n",
    "plt.ylabel('Ranking')\n",
    "plt.title('$F-Test$ score')\n",
    "\n",
    "plt.subplot(1,2,2)\n",
    "plt.bar(range(X.shape[1]),mi[mi_indices], align=\"center\")\n",
    "plt.xticks(range(X.shape[1]),feature_names[mi_indices], rotation = 90)\n",
    "plt.xlabel('features')\n",
    "plt.ylabel('Ranking')\n",
    "plt.title('Mutual information score')\n",
    "\n",
    "plt.show()"
   ]
  },
  {
   "cell_type": "markdown",
   "id": "801bf854-5d24-46a5-affc-bb3b8eed0098",
   "metadata": {},
   "source": [
    "Vamos a quitar las variables 'year', 'crash_weather', 'suface_state' que son las que menor informacion mutua tienen."
   ]
  },
  {
   "cell_type": "code",
   "execution_count": 58,
   "id": "30963019-e209-4b42-bda1-c5c2071bff8e",
   "metadata": {},
   "outputs": [],
   "source": [
    "prueba = acc_df_balanceado.drop(['year', 'crash_weather', 'surface_state'], axis=1)\n",
    "X = prueba.drop(\"fatality\", axis=1)\n",
    "Y = prueba[\"fatality\"]"
   ]
  },
  {
   "cell_type": "code",
   "execution_count": 59,
   "id": "642c5714-1c80-44d6-a163-ae0bbb221a75",
   "metadata": {},
   "outputs": [],
   "source": [
    "x_train, x_test, y_train, y_test = train_test_split(X, Y, stratify=Y, test_size=0.30, random_state=250)"
   ]
  },
  {
   "cell_type": "markdown",
   "id": "9cef245b-2a11-4e4c-acee-d22658a91ca8",
   "metadata": {
    "tags": []
   },
   "source": [
    "# Particion train y test"
   ]
  },
  {
   "cell_type": "markdown",
   "id": "68c1daee-cf53-43b8-8dc3-97165c1c6eb8",
   "metadata": {},
   "source": [
    "Realizamos una particion del conjunto de datos en train (70% de los datos) para entrenar los diferentes modelos."
   ]
  },
  {
   "cell_type": "code",
   "execution_count": 37,
   "id": "30d8bbcd-a2b1-4ac1-ab62-19084811ce9c",
   "metadata": {},
   "outputs": [],
   "source": [
    "X = acc_df_balanceado.drop(\"fatality\", axis=1)\n",
    "Y = acc_df_balanceado[\"fatality\"]"
   ]
  },
  {
   "cell_type": "code",
   "execution_count": 38,
   "id": "632e2ec8-fa3b-4bde-9279-22d73c4ac79e",
   "metadata": {},
   "outputs": [],
   "source": [
    "x_train, x_test, y_train, y_test = train_test_split(X, Y, stratify=Y, test_size=0.30, random_state=250)"
   ]
  },
  {
   "cell_type": "markdown",
   "id": "22d27823-345c-4393-be5e-fe5b0b2cc672",
   "metadata": {},
   "source": [
    "# Modelos "
   ]
  },
  {
   "cell_type": "markdown",
   "id": "63de8362-49be-40e8-9b7e-ffed3ad76885",
   "metadata": {},
   "source": [
    "Los modelos que vamos a ver son los siguientes :\n",
    "* Regresion Logística\n",
    "* Árbol de decisión\n",
    "* Bagging\n",
    "* Gradient Boosting\n",
    "* XGBoost\n",
    "\n",
    "Observacion: con un dataset desbalanceado, no debemos guiarnos por el accuracy de los modelos a la hora de compararlos (porque favorecen a la clase mayoritaria), sino más por la matriz de confusión normalizada y la curva ROC."
   ]
  },
  {
   "cell_type": "code",
   "execution_count": 156,
   "id": "8e3f6005-288a-4fc1-9b20-2ead913605fb",
   "metadata": {},
   "outputs": [],
   "source": [
    "from sklearn.metrics import confusion_matrix\n",
    "import seaborn as sns\n",
    "import matplotlib.pyplot as plt\n",
    "import numpy as np\n",
    "\n",
    "def plot_normalized_confusion_matrix(y_true, y_pred):\n",
    "    # Calcular la matriz de confusión\n",
    "    confusion = confusion_matrix(y_true, y_pred)\n",
    "\n",
    "    # Calcular la suma de cada fila\n",
    "    row_sums = confusion.sum(axis=1)\n",
    "\n",
    "    # Dividir cada valor en la matriz por la suma de su fila\n",
    "    normalized_confusion = confusion / row_sums[:, np.newaxis]\n",
    "\n",
    "    # Visualizar la matriz de confusión normalizada\n",
    "    plt.figure(figsize=(4, 4))\n",
    "    sns.heatmap(normalized_confusion, annot=True, cmap=\"Blues\", cbar=False,\n",
    "                annot_kws={\"fontsize\": 12}, linewidths=0.5, square=True)\n",
    "    plt.xlabel(\"Etiqueta Predicha\")\n",
    "    plt.ylabel(\"Etiqueta Real\")\n",
    "    plt.show()\n"
   ]
  },
  {
   "cell_type": "code",
   "execution_count": 184,
   "id": "492612a7-7121-455a-850f-c5bbe429c5e0",
   "metadata": {},
   "outputs": [],
   "source": [
    "predictions = {}\n",
    "models={}"
   ]
  },
  {
   "cell_type": "markdown",
   "id": "3feaffe6-3124-4d7f-bd56-f4642675f864",
   "metadata": {},
   "source": [
    "## Regresion Logistica"
   ]
  },
  {
   "cell_type": "code",
   "execution_count": 158,
   "id": "f75d2d49-22c1-4482-946c-19b08b23d3de",
   "metadata": {},
   "outputs": [
    {
     "name": "stdout",
     "output_type": "stream",
     "text": [
      "Exactitud: 0.6295949888940279\n",
      "Precisión: 0.6184125950598115\n",
      "Exhaustividad: 0.6768107037711242\n",
      "Puntuación F1: 0.6462951431790002\n"
     ]
    }
   ],
   "source": [
    "# Crear un objeto de regresión lineal\n",
    "regressor = LogisticRegression()\n",
    "\n",
    "# Entrenar el modelo utilizando el conjunto de entrenamiento\n",
    "regressor.fit(x_train, y_train)\n",
    "\n",
    "# Hacer predicciones en el conjunto de prueba\n",
    "y_pred = regressor.predict(x_test)\n",
    "predictions['Log_Reg']=y_pred\n",
    "\n",
    "# Exactitud (Accuracy)\n",
    "accuracy = accuracy_score(y_test, y_pred)\n",
    "print(\"Exactitud:\", accuracy)\n",
    "\n",
    "# Precisión (Precision)\n",
    "precision = precision_score(y_test, y_pred)\n",
    "print(\"Precisión:\", precision)\n",
    "\n",
    "# Sensibilidad (Recall o Sensitivity)\n",
    "recall = recall_score(y_test, y_pred)\n",
    "print(\"Exhaustividad:\", recall)\n",
    "\n",
    "# F1 Score\n",
    "f1 = f1_score(y_test, y_pred)\n",
    "print(\"Puntuación F1:\", f1)\n",
    "\n",
    "metricas_RL = [accuracy,precision,recall,f1]"
   ]
  },
  {
   "cell_type": "code",
   "execution_count": 159,
   "id": "5b7cffc2-bc26-4f2a-8828-24e5050490e9",
   "metadata": {},
   "outputs": [],
   "source": [
    "# Obtener las probabilidades de predicción para la clase positiva\n",
    "pred_prob = regressor.predict_proba(x_test)[:, 1]"
   ]
  },
  {
   "cell_type": "code",
   "execution_count": 160,
   "id": "44fa3689-b232-4047-8bf0-c47542ad230b",
   "metadata": {},
   "outputs": [
    {
     "data": {
      "image/png": "[encoded data removed]",
      "text/plain": [
       "<Figure size 288x288 with 1 Axes>"
      ]
     },
     "metadata": {
      "needs_background": "light"
     },
     "output_type": "display_data"
    }
   ],
   "source": [
    "plot_normalized_confusion_matrix(y_test,y_pred)"
   ]
  },
  {
   "cell_type": "markdown",
   "id": "5e764528-2cde-4518-9d9e-e3e06acd50f6",
   "metadata": {},
   "source": [
    "Interpretacion: Predice el 68% de los accidentes mortales bien y de los no mortales el 58%. Veamos si con el resto de modelos podemos mejorarlo."
   ]
  },
  {
   "cell_type": "code",
   "execution_count": 161,
   "id": "50904d68-2717-47ef-abd6-a5c3183dc39e",
   "metadata": {},
   "outputs": [],
   "source": [
    "# Aplicar la condición y asignar valores de 0 o 1\n",
    "new_pred_prob = np.where(pred_prob < 0.5, 0, 1)"
   ]
  },
  {
   "cell_type": "code",
   "execution_count": 162,
   "id": "16bda95c-289e-4e05-8a78-629bbe097ec6",
   "metadata": {},
   "outputs": [
    {
     "data": {
      "image/png": "[encoded data removed]",
      "text/plain": [
       "<Figure size 432x288 with 1 Axes>"
      ]
     },
     "metadata": {
      "needs_background": "light"
     },
     "output_type": "display_data"
    }
   ],
   "source": [
    "from sklearn.metrics import roc_curve, roc_auc_score\n",
    "\n",
    "# Calcular la curva ROC\n",
    "fpr, tpr, thresholds = roc_curve(y_test, new_pred_prob)\n",
    "\n",
    "# Calcular el AUC\n",
    "auc = roc_auc_score(y_test, new_pred_prob)\n",
    "metricas_RL.append(auc)\n",
    "\n",
    "# Graficar la curva ROC\n",
    "plt.plot(fpr, tpr, label='Curva ROC (AUC = {:.2f})'.format(auc))\n",
    "plt.plot([0, 1], [0, 1], 'r--', label='Clasificación aleatoria')\n",
    "plt.xlabel('Tasa de falsos positivos')\n",
    "plt.ylabel('Tasa de verdaderos positivos')\n",
    "plt.title('Curva ROC')\n",
    "plt.legend()\n",
    "plt.show()\n"
   ]
  },
  {
   "cell_type": "markdown",
   "id": "aec72cb9-9396-4ec0-8957-545844ac473c",
   "metadata": {},
   "source": [
    "## Arbol de decision"
   ]
  },
  {
   "cell_type": "code",
   "execution_count": 163,
   "id": "2ba6ba96-adb7-4a08-9bb5-3af9ec5dd679",
   "metadata": {},
   "outputs": [
    {
     "name": "stdout",
     "output_type": "stream",
     "text": [
      "Exactitud: 0.7472954531179518\n",
      "Precisión: 0.7123019335559507\n",
      "Exhaustividad: 0.8297089946485713\n",
      "Puntuación F1: 0.7665358401384229\n"
     ]
    }
   ],
   "source": [
    "# Crear un objeto de árbol de decisión\n",
    "tree_clf = DecisionTreeClassifier()\n",
    "\n",
    "# Entrenar el modelo utilizando el conjunto de entrenamiento\n",
    "tree_clf.fit(x_train, y_train)\n",
    "\n",
    "# Hacer predicciones en el conjunto de prueba\n",
    "y_pred = tree_clf.predict(x_test)\n",
    "predictions['Decision_Tree']=y_pred\n",
    "\n",
    "# Exactitud (Accuracy)\n",
    "accuracy = accuracy_score(y_test, y_pred)\n",
    "print(\"Exactitud:\", accuracy)\n",
    "\n",
    "# Precisión (Precision)\n",
    "precision = precision_score(y_test, y_pred)\n",
    "print(\"Precisión:\", precision)\n",
    "\n",
    "# Sensibilidad (Recall o Sensitivity)\n",
    "recall = recall_score(y_test, y_pred)\n",
    "print(\"Exhaustividad:\", recall)\n",
    "\n",
    "# F1 Score\n",
    "f1 = f1_score(y_test, y_pred)\n",
    "print(\"Puntuación F1:\", f1)\n",
    "\n",
    "metricas_arbol = [accuracy, precision, recall, f1]"
   ]
  },
  {
   "cell_type": "code",
   "execution_count": 164,
   "id": "19bf5697-2c39-489f-8d34-91afddf88cfe",
   "metadata": {},
   "outputs": [
    {
     "data": {
      "image/png": "[encoded data removed]",
      "text/plain": [
       "<Figure size 288x288 with 1 Axes>"
      ]
     },
     "metadata": {
      "needs_background": "light"
     },
     "output_type": "display_data"
    }
   ],
   "source": [
    "# Llamar a la función con los valores de y_test y y_pred\n",
    "plot_normalized_confusion_matrix(y_test, y_pred)"
   ]
  },
  {
   "cell_type": "markdown",
   "id": "8ca03d85-7ea2-4e33-b01f-ba46d9d25cf7",
   "metadata": {},
   "source": [
    "Mejora bastante respecto a la prediccion de accidentes mortales. Sin embargo, todavia sigue prediciendo peor los accidentes que no lo son."
   ]
  },
  {
   "cell_type": "code",
   "execution_count": 165,
   "id": "7d10d47d-2c5b-45d5-8bd7-3a542815b81c",
   "metadata": {},
   "outputs": [
    {
     "data": {
      "image/png": "[encoded data removed]",
      "text/plain": [
       "<Figure size 432x288 with 1 Axes>"
      ]
     },
     "metadata": {
      "needs_background": "light"
     },
     "output_type": "display_data"
    }
   ],
   "source": [
    "from sklearn.tree import DecisionTreeClassifier\n",
    "from sklearn.metrics import roc_curve, roc_auc_score\n",
    "import matplotlib.pyplot as plt\n",
    "\n",
    "# Obtener las probabilidades de predicción para la clase positiva\n",
    "pred_prob = tree_clf.predict_proba(x_test)[:, 1]\n",
    "\n",
    "# Calcular la curva ROC\n",
    "fpr, tpr, thresholds = roc_curve(y_test, pred_prob)\n",
    "\n",
    "# Calcular el AUC\n",
    "auc = roc_auc_score(y_test, pred_prob)\n",
    "metricas_arbol.append(auc)\n",
    "# Graficar la curva ROC\n",
    "plt.plot(fpr, tpr, label='Curva ROC (AUC = {:.2f})'.format(auc))\n",
    "plt.plot([0, 1], [0, 1], 'r--', label='Clasificación aleatoria')\n",
    "plt.xlabel('Tasa de falsos positivos')\n",
    "plt.ylabel('Tasa de verdaderos positivos')\n",
    "plt.title('Curva ROC')\n",
    "plt.legend()\n",
    "plt.show()\n"
   ]
  },
  {
   "cell_type": "markdown",
   "id": "1f1de099-7324-479e-b95f-16d22c433df2",
   "metadata": {},
   "source": [
    "Mejora mucho la curva ROC y el AUC por lo que este modelo parece ser mejor que regresion logistica."
   ]
  },
  {
   "cell_type": "markdown",
   "id": "ff678055-cdd7-4ed4-a1de-92be942bd474",
   "metadata": {},
   "source": [
    "## Modelo Bagging"
   ]
  },
  {
   "cell_type": "markdown",
   "id": "e5cdd1cf-e692-41a4-b57c-4dcf28196807",
   "metadata": {},
   "source": [
    "El proceso de Bagging comienza dividiendo el conjunto de datos de entrenamiento en múltiples subconjuntos aleatorios, a menudo llamados \"subconjuntos de bootstrap\". Se entrena un modelo base en cada subconjunto de bootstrap, lo que resulta en múltiples modelos base. Estos modelos se utilizan para hacer predicciones en el conjunto de datos de prueba.\n",
    "\n",
    "La idea detrás del Bagging es que los modelos base pueden tener diferentes fortalezas y debilidades debido a las diferentes muestras de entrenamiento. Al combinar estas predicciones, se pueden cancelar los errores y se puede mejorar la precisión general del modelo."
   ]
  },
  {
   "cell_type": "code",
   "execution_count": 166,
   "id": "b086a0d2-6a2e-44a9-8ef7-c207011811a8",
   "metadata": {},
   "outputs": [
    {
     "name": "stdout",
     "output_type": "stream",
     "text": [
      "Accuracy: 0.7472760390793177\n",
      "Precision: 0.7120295804217717\n",
      "Recall: 0.8303919127874708\n",
      "F1 Score: 0.7666693025879475\n"
     ]
    }
   ],
   "source": [
    "# Crear un clasificador base (en este caso, un árbol de decisión)\n",
    "base_classifier = DecisionTreeClassifier()\n",
    "\n",
    "# Crear un clasificador Bagging\n",
    "bagging_classifier = BaggingClassifier(base_estimator=base_classifier)\n",
    "\n",
    "# Entrenar el clasificador Bagging utilizando el conjunto de entrenamiento\n",
    "bagging_classifier.fit(x_train, y_train)\n",
    "\n",
    "# Hacer predicciones en el conjunto de prueba\n",
    "y_pred = bagging_classifier.predict(x_test)\n",
    "predictions['Bagging'] = y_pred\n",
    "\n",
    "# Calcular las métricas de evaluación\n",
    "accuracy = accuracy_score(y_test, y_pred)\n",
    "precision = precision_score(y_test, y_pred)\n",
    "recall = recall_score(y_test, y_pred)\n",
    "f1 = f1_score(y_test, y_pred)\n",
    "\n",
    "# Imprimir las métricas de evaluación\n",
    "print(\"Accuracy:\", accuracy)\n",
    "print(\"Precision:\", precision)\n",
    "print(\"Recall:\", recall)\n",
    "print(\"F1 Score:\", f1)\n",
    "\n",
    "# Guardar las métricas en una lista\n",
    "metricas_bagging = [accuracy, precision, recall, f1]\n"
   ]
  },
  {
   "cell_type": "code",
   "execution_count": 167,
   "id": "fe20cd55-6f5e-4fe5-8674-74855936947d",
   "metadata": {},
   "outputs": [
    {
     "data": {
      "image/png": "[encoded data removed]",
      "text/plain": [
       "<Figure size 288x288 with 1 Axes>"
      ]
     },
     "metadata": {
      "needs_background": "light"
     },
     "output_type": "display_data"
    }
   ],
   "source": [
    "# Llamar a la función con los valores de y_test y y_pred\n",
    "plot_normalized_confusion_matrix(y_test, y_pred)"
   ]
  },
  {
   "cell_type": "markdown",
   "id": "380866c9-877b-443f-a85f-4a2cefb75d8d",
   "metadata": {},
   "source": [
    "Interpretacion: Predice el 83% de los accidentes mortales bien y de los no mortales el 66%. Esta bastante bien, sobretodo porque estamos interesados en predecir los accidentes mortales."
   ]
  },
  {
   "cell_type": "code",
   "execution_count": 178,
   "id": "1de11a30-6938-4b2e-bb94-b9e8449c9f8a",
   "metadata": {},
   "outputs": [
    {
     "data": {
      "image/png": "[encoded data removed]",
      "text/plain": [
       "<Figure size 432x288 with 1 Axes>"
      ]
     },
     "metadata": {
      "needs_background": "light"
     },
     "output_type": "display_data"
    }
   ],
   "source": [
    "# Obtener las probabilidades de predicción para la clase positiva\n",
    "pred_prob = bagging_classifier.predict_proba(x_test)[:, 1]\n",
    "\n",
    "# Calcular la curva ROC\n",
    "fpr, tpr, thresholds = roc_curve(y_test, pred_prob)\n",
    "\n",
    "# Calcular el AUC\n",
    "auc = roc_auc_score(y_test, pred_prob)\n",
    "metricas_bagging.append(auc)\n",
    "\n",
    "# Graficar la curva ROC\n",
    "plt.plot(fpr, tpr, label='Curva ROC (AUC = {:.2f})'.format(auc))\n",
    "plt.plot([0, 1], [0, 1], 'r--', label='Clasificación aleatoria')\n",
    "plt.xlabel('Tasa de falsos positivos')\n",
    "plt.ylabel('Tasa de verdaderos positivos')\n",
    "plt.title('Curva ROC')\n",
    "plt.legend()\n",
    "plt.show()"
   ]
  },
  {
   "cell_type": "markdown",
   "id": "95d80ffc-1769-4afc-828b-56b29f401043",
   "metadata": {},
   "source": [
    "## Modelo Gradient Boosting"
   ]
  },
  {
   "cell_type": "code",
   "execution_count": 169,
   "id": "ec291b31-b97c-4d05-b593-38ed4f355bb6",
   "metadata": {},
   "outputs": [
    {
     "name": "stdout",
     "output_type": "stream",
     "text": [
      "Accuracy: 0.6707481827888837\n",
      "Precision: 0.662453822417315\n",
      "Recall: 0.6962750127333399\n",
      "F1 Score: 0.6789434826231866\n"
     ]
    }
   ],
   "source": [
    "# Crear un clasificador Gradient Boosting\n",
    "gb_classifier = GradientBoostingClassifier()\n",
    "\n",
    "# Entrenar el clasificador utilizando el conjunto de entrenamiento\n",
    "gb_classifier.fit(x_train, y_train)\n",
    "\n",
    "# Hacer predicciones en el conjunto de prueba\n",
    "y_pred = gb_classifier.predict(x_test)\n",
    "predictions['Gradient_Boosting'] = y_pred\n",
    "\n",
    "# Calcular las métricas de evaluación\n",
    "accuracy = accuracy_score(y_test, y_pred)\n",
    "precision = precision_score(y_test, y_pred)\n",
    "recall = recall_score(y_test, y_pred)\n",
    "f1 = f1_score(y_test, y_pred)\n",
    "\n",
    "# Imprimir las métricas de evaluación\n",
    "print(\"Accuracy:\", accuracy)\n",
    "print(\"Precision:\", precision)\n",
    "print(\"Recall:\", recall)\n",
    "print(\"F1 Score:\", f1)\n",
    "\n",
    "# Guardar las métricas en una lista\n",
    "metricas_gradient_boosting = [accuracy, precision, recall, f1]"
   ]
  },
  {
   "cell_type": "code",
   "execution_count": 170,
   "id": "0f636db8-a88a-43e7-afea-d5d6be116175",
   "metadata": {},
   "outputs": [
    {
     "data": {
      "image/png": "[encoded data removed]",
      "text/plain": [
       "<Figure size 288x288 with 1 Axes>"
      ]
     },
     "metadata": {
      "needs_background": "light"
     },
     "output_type": "display_data"
    }
   ],
   "source": [
    "# Llamar a la función con los valores de y_test y y_pred\n",
    "plot_normalized_confusion_matrix(y_test, y_pred)"
   ]
  },
  {
   "cell_type": "markdown",
   "id": "83a91c5a-cb5f-4fe5-a47e-da8ad13f7ca2",
   "metadata": {},
   "source": [
    "Interpretacion: Predice el 70% de los accidentes mortales bien y de los no mortales el 65%. Ha empeorado."
   ]
  },
  {
   "cell_type": "code",
   "execution_count": 171,
   "id": "30750d47-d448-410b-bdaa-8aafcc5fb10e",
   "metadata": {},
   "outputs": [
    {
     "data": {
      "image/png": "[encoded data removed]",
      "text/plain": [
       "<Figure size 432x288 with 1 Axes>"
      ]
     },
     "metadata": {
      "needs_background": "light"
     },
     "output_type": "display_data"
    }
   ],
   "source": [
    "# Obtener las probabilidades de predicción para la clase positiva\n",
    "pred_prob = gb_classifier.predict_proba(x_test)[:, 1]\n",
    "\n",
    "# Calcular la curva ROC\n",
    "fpr, tpr, thresholds = roc_curve(y_test, pred_prob)\n",
    "\n",
    "# Calcular el AUC\n",
    "auc = roc_auc_score(y_test, pred_prob)\n",
    "metricas_gradient_boosting.append(auc)\n",
    "\n",
    "# Graficar la curva ROC\n",
    "plt.plot(fpr, tpr, label='Curva ROC (AUC = {:.2f})'.format(auc))\n",
    "plt.plot([0, 1], [0, 1], 'r--', label='Clasificación aleatoria')\n",
    "plt.xlabel('Tasa de falsos positivos')\n",
    "plt.ylabel('Tasa de verdaderos positivos')\n",
    "plt.title('Curva ROC')\n",
    "plt.legend()\n",
    "plt.show()\n"
   ]
  },
  {
   "cell_type": "markdown",
   "id": "dbc6ecc9-a5ab-4fc9-ba50-79e8fac1c67f",
   "metadata": {},
   "source": [
    "## Modelo XGBOOST"
   ]
  },
  {
   "cell_type": "code",
   "execution_count": 172,
   "id": "c581ca00-c99e-4b57-9920-5ccdc600a5ea",
   "metadata": {},
   "outputs": [
    {
     "name": "stdout",
     "output_type": "stream",
     "text": [
      "Exactitud: 0.6912425555726855\n",
      "Precisión: 0.6790394040216564\n",
      "Exhaustividad: 0.7253207317045317\n",
      "Puntuación F1: 0.7014174567501753\n"
     ]
    }
   ],
   "source": [
    "# Crear un objeto de clasificador XGBoost\n",
    "xgb_classifier = xgb.XGBClassifier()\n",
    "\n",
    "# Entrenar el modelo utilizando el conjunto de entrenamiento\n",
    "xgb_classifier.fit(x_train, y_train)\n",
    "\n",
    "# Hacer predicciones en el conjunto de prueba\n",
    "y_pred = xgb_classifier.predict(x_test)\n",
    "predictions['XGB']=y_pred\n",
    "\n",
    "# Exactitud (Accuracy)\n",
    "accuracy = accuracy_score(y_test, y_pred)\n",
    "print(\"Exactitud:\", accuracy)\n",
    "\n",
    "# Precisión (Precision)\n",
    "precision = precision_score(y_test, y_pred)\n",
    "print(\"Precisión:\", precision)\n",
    "\n",
    "# Sensibilidad (Recall o Sensitivity)\n",
    "recall = recall_score(y_test, y_pred)\n",
    "print(\"Exhaustividad:\", recall)\n",
    "\n",
    "# F1 Score\n",
    "f1 = f1_score(y_test, y_pred)\n",
    "print(\"Puntuación F1:\", f1)\n",
    "\n",
    "metricas_xgb = [accuracy, precision, recall, f1]"
   ]
  },
  {
   "cell_type": "code",
   "execution_count": 173,
   "id": "035d4035-08fc-450f-b054-636812618635",
   "metadata": {},
   "outputs": [
    {
     "data": {
      "image/png": "[encoded data removed]",
      "text/plain": [
       "<Figure size 288x288 with 1 Axes>"
      ]
     },
     "metadata": {
      "needs_background": "light"
     },
     "output_type": "display_data"
    }
   ],
   "source": [
    "# Llamar a la función con los valores de y_test y y_pred\n",
    "plot_normalized_confusion_matrix(y_test, y_pred)"
   ]
  },
  {
   "cell_type": "markdown",
   "id": "c264d937-ab94-4c27-b6d8-357c86372396",
   "metadata": {},
   "source": [
    "Interpretacion: Predice el 73% de los accidentes mortales bien y de los no mortales el 66%. Mejora con respecto al anterior."
   ]
  },
  {
   "cell_type": "code",
   "execution_count": 174,
   "id": "ba28dd2e-41c5-40af-9576-49920efb97c6",
   "metadata": {},
   "outputs": [
    {
     "data": {
      "image/png": "[encoded data removed]",
      "text/plain": [
       "<Figure size 432x288 with 1 Axes>"
      ]
     },
     "metadata": {
      "needs_background": "light"
     },
     "output_type": "display_data"
    }
   ],
   "source": [
    "# Obtener las probabilidades de predicción para la clase positiva\n",
    "pred_prob = xgb_classifier.predict_proba(x_test)[:, 1]\n",
    "\n",
    "# Calcular la curva ROC\n",
    "fpr, tpr, thresholds = roc_curve(y_test, pred_prob)\n",
    "\n",
    "# Calcular el AUC\n",
    "auc = roc_auc_score(y_test, pred_prob)\n",
    "metricas_xgb.append(auc)\n",
    "\n",
    "# Graficar la curva ROC\n",
    "plt.plot(fpr, tpr, label='Curva ROC (AUC = {:.2f})'.format(auc))\n",
    "plt.plot([0, 1], [0, 1], 'r--', label='Clasificación aleatoria')\n",
    "plt.xlabel('Tasa de falsos positivos')\n",
    "plt.ylabel('Tasa de verdaderos positivos')\n",
    "plt.title('Curva ROC')\n",
    "plt.legend()\n",
    "plt.show()\n"
   ]
  },
  {
   "cell_type": "markdown",
   "id": "4403b94f-0255-4bf1-aaf9-e70e2d83e4f7",
   "metadata": {},
   "source": [
    "# Evaluacion resultados"
   ]
  },
  {
   "cell_type": "markdown",
   "id": "2abad064-330f-42df-826b-28049c37056e",
   "metadata": {},
   "source": [
    "A continuación, procedemos a valorar los modelos de forma conjunta, para poder escoger el mejor modelo."
   ]
  },
  {
   "cell_type": "code",
   "execution_count": 176,
   "id": "6e158c23-3899-44e4-9c12-c737266edcde",
   "metadata": {},
   "outputs": [
    {
     "data": {
      "text/plain": [
       "<matplotlib.legend.Legend at 0x7f896411d550>"
      ]
     },
     "execution_count": 176,
     "metadata": {},
     "output_type": "execute_result"
    },
    {
     "data": {
      "image/png": "[encoded data removed]",
      "text/plain": [
       "<Figure size 432x288 with 1 Axes>"
      ]
     },
     "metadata": {
      "needs_background": "light"
     },
     "output_type": "display_data"
    }
   ],
   "source": [
    "# Curva por defecto\n",
    "plt.plot([0,1], [0,1], linestyle='--', label='No Skill')\n",
    "\n",
    "# Curva de cada modelo\n",
    "for key in predictions:\n",
    "    # calculate roc curves (no prob)\n",
    "    fpr, tpr, thresholds = roc_curve(y_test, predictions[key])\n",
    "    plt.plot(fpr, tpr, marker='.', label=key)\n",
    "\n",
    "# axis labels\n",
    "plt.xlabel('Falsos positivos')\n",
    "plt.ylabel('Verdaderos positivos')\n",
    "plt.title('Comparativa de modelos')\n",
    "plt.legend()"
   ]
  },
  {
   "cell_type": "code",
   "execution_count": 186,
   "id": "d6240dcb-8fb7-4069-a55e-13c1ead17162",
   "metadata": {},
   "outputs": [],
   "source": [
    "models['LogisticRegression']= regressor\n",
    "models['DecisionTree']=tree_clf\n",
    "models['Bagging']= bagging_classifier\n",
    "models['GradientBoosting']= gb_classifier\n",
    "models['XGBoost']= xgb_classifier"
   ]
  },
  {
   "cell_type": "code",
   "execution_count": 190,
   "id": "21c275b8-a766-4e45-bb9a-84aa0a777e0e",
   "metadata": {},
   "outputs": [
    {
     "data": {
      "text/plain": [
       "<matplotlib.legend.Legend at 0x7f895f55a8e0>"
      ]
     },
     "execution_count": 190,
     "metadata": {},
     "output_type": "execute_result"
    },
    {
     "data": {
      "image/png": "[encoded data removed]",
      "text/plain": [
       "<Figure size 432x288 with 1 Axes>"
      ]
     },
     "metadata": {
      "needs_background": "light"
     },
     "output_type": "display_data"
    }
   ],
   "source": [
    "# Curva por defecto\n",
    "plt.plot([0,1], [0,1], linestyle='--', label='No Skill')\n",
    "\n",
    "# Curva de cada modelo\n",
    "for key in models:\n",
    "        yhat = models[key].predict_proba(x_test)[:,1]\n",
    "        fpr, tpr, thresholds = roc_curve(y_test, yhat)\n",
    "        plt.plot(fpr, tpr, marker='.', label=key)\n",
    "\n",
    "# axis labels\n",
    "plt.xlabel('False Positive Rate')\n",
    "plt.ylabel('True Positive Rate')\n",
    "plt.title('Comparativa de modelos ROC')\n",
    "plt.legend()"
   ]
  },
  {
   "cell_type": "markdown",
   "id": "53a92b51-6a4d-4341-a5d0-4932cb49b04e",
   "metadata": {},
   "source": [
    "En la curva ROC un clasificador ideal tendría una tasa de verdaderos positivos del 100% y una tasa de falsos positivos del 0%, lo que se traduciría en un área bajo la curva (AUC) de 1. Cuanto más se acerque la curva ROC a la esquina superior izquierda del gráfico, mejor será el rendimiento del modelo.\n",
    "En nuestro caso los clasificadores Bagging y arbol de decision son los que mejor resultados proporcionan para esta métrica."
   ]
  },
  {
   "cell_type": "code",
   "execution_count": 179,
   "id": "280b22ee-c7f1-4bf2-9781-a812e2b1c023",
   "metadata": {},
   "outputs": [
    {
     "data": {
      "text/html": [
       "<div>\n",
       "<style scoped>\n",
       "    .dataframe tbody tr th:only-of-type {\n",
       "        vertical-align: middle;\n",
       "    }\n",
       "\n",
       "    .dataframe tbody tr th {\n",
       "        vertical-align: top;\n",
       "    }\n",
       "\n",
       "    .dataframe thead th {\n",
       "        text-align: right;\n",
       "    }\n",
       "</style>\n",
       "<table border=\"1\" class=\"dataframe\">\n",
       "  <thead>\n",
       "    <tr style=\"text-align: right;\">\n",
       "      <th></th>\n",
       "      <th>accuracy</th>\n",
       "      <th>precision</th>\n",
       "      <th>recall</th>\n",
       "      <th>f1</th>\n",
       "      <th>auc</th>\n",
       "    </tr>\n",
       "    <tr>\n",
       "      <th>nombre_modelo</th>\n",
       "      <th></th>\n",
       "      <th></th>\n",
       "      <th></th>\n",
       "      <th></th>\n",
       "      <th></th>\n",
       "    </tr>\n",
       "  </thead>\n",
       "  <tbody>\n",
       "    <tr>\n",
       "      <th>Regresion Logistica</th>\n",
       "      <td>0.629595</td>\n",
       "      <td>0.618413</td>\n",
       "      <td>0.676811</td>\n",
       "      <td>0.646295</td>\n",
       "      <td>0.629595</td>\n",
       "    </tr>\n",
       "    <tr>\n",
       "      <th>Gradient boosting</th>\n",
       "      <td>0.670748</td>\n",
       "      <td>0.662454</td>\n",
       "      <td>0.696275</td>\n",
       "      <td>0.678943</td>\n",
       "      <td>0.742774</td>\n",
       "    </tr>\n",
       "    <tr>\n",
       "      <th>Arbol de decision</th>\n",
       "      <td>0.747295</td>\n",
       "      <td>0.712302</td>\n",
       "      <td>0.829709</td>\n",
       "      <td>0.766536</td>\n",
       "      <td>0.830568</td>\n",
       "    </tr>\n",
       "    <tr>\n",
       "      <th>Bagging</th>\n",
       "      <td>0.747276</td>\n",
       "      <td>0.712030</td>\n",
       "      <td>0.830392</td>\n",
       "      <td>0.766669</td>\n",
       "      <td>0.830882</td>\n",
       "    </tr>\n",
       "    <tr>\n",
       "      <th>XGBoost</th>\n",
       "      <td>0.691243</td>\n",
       "      <td>0.679039</td>\n",
       "      <td>0.725321</td>\n",
       "      <td>0.701417</td>\n",
       "      <td>0.766131</td>\n",
       "    </tr>\n",
       "  </tbody>\n",
       "</table>\n",
       "</div>"
      ],
      "text/plain": [
       "                     accuracy  precision    recall        f1       auc\n",
       "nombre_modelo                                                         \n",
       "Regresion Logistica  0.629595   0.618413  0.676811  0.646295  0.629595\n",
       "Gradient boosting    0.670748   0.662454  0.696275  0.678943  0.742774\n",
       "Arbol de decision    0.747295   0.712302  0.829709  0.766536  0.830568\n",
       "Bagging              0.747276   0.712030  0.830392  0.766669  0.830882\n",
       "XGBoost              0.691243   0.679039  0.725321  0.701417  0.766131"
      ]
     },
     "execution_count": 179,
     "metadata": {},
     "output_type": "execute_result"
    }
   ],
   "source": [
    "# Hacemos un dataframe que recoja todas las metricas para cada modelo.\n",
    "\n",
    "# Crear un diccionario con las métricas de cada modelo\n",
    "metricas = {\n",
    "    \"Regresion Logistica\": metricas_RL,\n",
    "    \"Gradient boosting\":metricas_gradient_boosting,\n",
    "    \"Arbol de decision\": metricas_arbol,\n",
    "    \"Bagging\": metricas_bagging, \n",
    "    \"XGBoost\": metricas_xgb\n",
    "}\n",
    "\n",
    "# Crear el dataframe\n",
    "df_metricas = pd.DataFrame(metricas, index=[\"accuracy\", \"precision\", \"recall\", \"f1\",\"auc\"])\n",
    "\n",
    "# Transponer el dataframe\n",
    "df_metricas = df_metricas.T\n",
    "\n",
    "# Renombrar la columna del índice a \"nombre_modelo\"\n",
    "df_metricas.index.name = \"nombre_modelo\"\n",
    "\n",
    "df_metricas"
   ]
  },
  {
   "cell_type": "markdown",
   "id": "d6577196-70d3-4096-8d57-a6716cdcb57d",
   "metadata": {},
   "source": [
    "La tabla anterior imprime los resultados de las métricas para cada modelo. Como ya hemos dicho, utilizaremos recall y el AUC como la métrica principal. \n",
    "\n",
    "El recall proporciona información sobre la capacidad del modelo para capturar los casos positivos reales y es especialmente útil cuando la detección de casos positivos es una prioridad, como en problemas de detección de accidentes mortales.\n",
    "\n",
    "$$Recall = \\frac{Verdaderos\\ Positivos}{Verdaderos\\ Positivos + Falsos\\ Negativos}$$\n",
    "\n",
    "Por otro lado, la Curva ROC (Receiver Operating Characteristic) es una representación gráfica del rendimiento de un modelo de clasificación binaria. El AUC es el área que se encuentra debajo de esta curva. Proporciona una medida del rendimiento general del modelo al evaluar su capacidad para distinguir entre clases positivas y negativas. Un valor del AUC cercano a 1 indica un modelo muy bueno y un valor de 0.5 indica un rendimiento aleatorio.\n",
    "\n",
    "Con esto, los modelos que mayor AUC proporcionan son el arbol de decision y el bagging.\n"
   ]
  }
 ],
 "metadata": {
  "kernelspec": {
   "display_name": "Python 3 (ipykernel)",
   "language": "python",
   "name": "python3"
  },
  "language_info": {
   "codemirror_mode": {
    "name": "ipython",
    "version": 3
   },
   "file_extension": ".py",
   "mimetype": "text/x-python",
   "name": "python",
   "nbconvert_exporter": "python",
   "pygments_lexer": "ipython3",
   "version": "3.9.12"
  }
 },
 "nbformat": 4,
 "nbformat_minor": 5
}
